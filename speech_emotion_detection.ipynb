{
  "cells": [
    {
      "cell_type": "markdown",
      "metadata": {
        "id": "YdP9BqIjVNm-"
      },
      "source": [
        "## Imports"
      ]
    },
    {
      "cell_type": "code",
      "execution_count": null,
      "metadata": {
        "colab": {
          "base_uri": "https://localhost:8080/"
        },
        "id": "PPoeux4SVRzA",
        "outputId": "0363645b-2a3d-45be-f723-fafe385534bb"
      },
      "outputs": [
        {
          "name": "stdout",
          "output_type": "stream",
          "text": [
            "Mounted at /content/drive\n"
          ]
        }
      ],
      "source": [
        "from google.colab import drive\n",
        "drive.mount('/content/drive')"
      ]
    },
    {
      "cell_type": "code",
      "execution_count": null,
      "metadata": {
        "colab": {
          "base_uri": "https://localhost:8080/"
        },
        "id": "z47oHo2CVg5y",
        "outputId": "134ef95b-650f-4d6a-b535-73daaf5bcbdb"
      },
      "outputs": [
        {
          "name": "stdout",
          "output_type": "stream",
          "text": [
            "Collecting torchmetrics\n",
            "  Downloading torchmetrics-1.6.0-py3-none-any.whl.metadata (20 kB)\n",
            "Requirement already satisfied: numpy>1.20.0 in /usr/local/lib/python3.10/dist-packages (from torchmetrics) (1.26.4)\n",
            "Requirement already satisfied: packaging>17.1 in /usr/local/lib/python3.10/dist-packages (from torchmetrics) (24.2)\n",
            "Requirement already satisfied: torch>=2.0.0 in /usr/local/lib/python3.10/dist-packages (from torchmetrics) (2.5.1+cu121)\n",
            "Collecting lightning-utilities>=0.8.0 (from torchmetrics)\n",
            "  Downloading lightning_utilities-0.11.9-py3-none-any.whl.metadata (5.2 kB)\n",
            "Requirement already satisfied: setuptools in /usr/local/lib/python3.10/dist-packages (from lightning-utilities>=0.8.0->torchmetrics) (75.1.0)\n",
            "Requirement already satisfied: typing-extensions in /usr/local/lib/python3.10/dist-packages (from lightning-utilities>=0.8.0->torchmetrics) (4.12.2)\n",
            "Requirement already satisfied: filelock in /usr/local/lib/python3.10/dist-packages (from torch>=2.0.0->torchmetrics) (3.16.1)\n",
            "Requirement already satisfied: networkx in /usr/local/lib/python3.10/dist-packages (from torch>=2.0.0->torchmetrics) (3.4.2)\n",
            "Requirement already satisfied: jinja2 in /usr/local/lib/python3.10/dist-packages (from torch>=2.0.0->torchmetrics) (3.1.4)\n",
            "Requirement already satisfied: fsspec in /usr/local/lib/python3.10/dist-packages (from torch>=2.0.0->torchmetrics) (2024.10.0)\n",
            "Requirement already satisfied: sympy==1.13.1 in /usr/local/lib/python3.10/dist-packages (from torch>=2.0.0->torchmetrics) (1.13.1)\n",
            "Requirement already satisfied: mpmath<1.4,>=1.1.0 in /usr/local/lib/python3.10/dist-packages (from sympy==1.13.1->torch>=2.0.0->torchmetrics) (1.3.0)\n",
            "Requirement already satisfied: MarkupSafe>=2.0 in /usr/local/lib/python3.10/dist-packages (from jinja2->torch>=2.0.0->torchmetrics) (3.0.2)\n",
            "Downloading torchmetrics-1.6.0-py3-none-any.whl (926 kB)\n",
            "\u001b[2K   \u001b[90m━━━━━━━━━━━━━━━━━━━━━━━━━━━━━━━━━━━━━━━━\u001b[0m \u001b[32m926.4/926.4 kB\u001b[0m \u001b[31m15.7 MB/s\u001b[0m eta \u001b[36m0:00:00\u001b[0m\n",
            "\u001b[?25hDownloading lightning_utilities-0.11.9-py3-none-any.whl (28 kB)\n",
            "Installing collected packages: lightning-utilities, torchmetrics\n",
            "Successfully installed lightning-utilities-0.11.9 torchmetrics-1.6.0\n"
          ]
        }
      ],
      "source": [
        "!pip install torchmetrics"
      ]
    },
    {
      "cell_type": "code",
      "execution_count": null,
      "metadata": {
        "id": "0MbOJrqZVNm_"
      },
      "outputs": [],
      "source": [
        "import os\n",
        "import random\n",
        "import tqdm\n",
        "import torch\n",
        "import torch.nn as nn\n",
        "import torch.optim as optim\n",
        "import torchvision\n",
        "from torch.utils.data import Dataset, DataLoader, random_split\n",
        "from torch.nn.utils.rnn import pad_sequence\n",
        "import torchmetrics as tm\n",
        "from sklearn.model_selection import train_test_split\n",
        "import torchaudio\n",
        "from torchaudio import transforms as T\n",
        "from torchaudio import pipelines\n",
        "import librosa\n",
        "import pandas as pd\n",
        "import matplotlib.pyplot as plt\n",
        "from IPython.display import display, Audio\n",
        "import warnings\n",
        "import numpy as np\n",
        "from sklearn.utils.class_weight import compute_class_weight"
      ]
    },
    {
      "cell_type": "code",
      "execution_count": null,
      "metadata": {
        "id": "Su6qLg8SVNnA"
      },
      "outputs": [],
      "source": [
        "warnings.filterwarnings(\"ignore\")"
      ]
    },
    {
      "cell_type": "code",
      "execution_count": null,
      "metadata": {
        "colab": {
          "base_uri": "https://localhost:8080/"
        },
        "id": "XJLoa41DVNnA",
        "outputId": "add14b07-6239-4799-9bac-105756c78e62"
      },
      "outputs": [
        {
          "name": "stdout",
          "output_type": "stream",
          "text": [
            "torch 2.5.1+cu121\n",
            "torchaudio 2.5.1+cu121\n",
            "librosa 0.10.2.post1\n",
            "pandas 2.2.2\n"
          ]
        }
      ],
      "source": [
        "for lib in [torch, torchaudio, librosa, pd]:\n",
        "    print(lib.__name__ ,lib.__version__)"
      ]
    },
    {
      "cell_type": "markdown",
      "metadata": {
        "id": "AebWiTbFVNnA"
      },
      "source": [
        "## Dataset"
      ]
    },
    {
      "cell_type": "code",
      "execution_count": null,
      "metadata": {
        "colab": {
          "base_uri": "https://localhost:8080/",
          "height": 93
        },
        "id": "DomGrM4PVNnA",
        "outputId": "fa23bf6e-79f9-437e-b931-4b80ca6ef8eb"
      },
      "outputs": [
        {
          "name": "stdout",
          "output_type": "stream",
          "text": [
            "torch.Size([1, 51337])\n"
          ]
        },
        {
          "data": {
            "text/html": [
              "\n",
              "                <audio  controls=\"controls\" >\n",
              "                    <source src=\"data:audio/wav;base64,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\" type=\"audio/wav\" />\n",
              "                    Your browser does not support the audio element.\n",
              "                </audio>\n",
              "              "
            ],
            "text/plain": [
              "<IPython.lib.display.Audio object>"
            ]
          },
          "execution_count": 11,
          "metadata": {},
          "output_type": "execute_result"
        }
      ],
      "source": [
        "# load a sample and hearing its contents\n",
        "\n",
        "sound, sr = torchaudio.load('drive/MyDrive/aug_shemo/F01A01_speed_1.3.wav')\n",
        "print(sound.shape)\n",
        "Audio(data=sound, rate=sr)"
      ]
    },
    {
      "cell_type": "code",
      "execution_count": null,
      "metadata": {
        "colab": {
          "base_uri": "https://localhost:8080/",
          "height": 465
        },
        "id": "uUTPrJzqD4pL",
        "outputId": "d14bc47b-cad6-468d-92a5-9370f2a27530"
      },
      "outputs": [
        {
          "name": "stdout",
          "output_type": "stream",
          "text": [
            "torch.Size([128, 257])\n"
          ]
        },
        {
          "data": {
            "text/plain": [
              "<matplotlib.image.AxesImage at 0x7e823de7a8f0>"
            ]
          },
          "execution_count": 12,
          "metadata": {},
          "output_type": "execute_result"
        },
        {
          "data": {
            "image/png": "[encoded data removed]",
            "text/plain": [
              "<Figure size 640x480 with 1 Axes>"
            ]
          },
          "metadata": {},
          "output_type": "display_data"
        }
      ],
      "source": [
        "# plot mel-spectrogram\n",
        "transform = T.MelSpectrogram(sample_rate=sr, n_fft=400, n_mels=128)\n",
        "mel = transform(sound)\n",
        "print(mel[0].shape)\n",
        "plt.imshow(librosa.power_to_db(mel[0]), origin=\"lower\", aspect=\"auto\", interpolation=\"nearest\")"
      ]
    },
    {
      "cell_type": "code",
      "execution_count": null,
      "metadata": {
        "id": "p0GtXgiXVNnB",
        "outputId": "792120e2-b37c-4a74-8050-e6c8a96ff85f"
      },
      "outputs": [
        {
          "data": {
            "image/png": "[encoded data removed]",
            "text/plain": [
              "<Figure size 1000x1000 with 4 Axes>"
            ]
          },
          "metadata": {},
          "output_type": "display_data"
        }
      ],
      "source": [
        "# plot some random sounds in dataset\n",
        "\n",
        "fig, axes = plt.subplots(2, 2, figsize=(10, 10))\n",
        "axes_flatten = axes.flatten()\n",
        "\n",
        "for i in range(len(axes_flatten)):\n",
        "    data = random.choice(file_names)\n",
        "    sound, sr = librosa.load(f'SHEMO/{data}')\n",
        "    axes_flatten[i].plot(sound)\n",
        "    axes_flatten[i].set_title(data)"
      ]
    },
    {
      "cell_type": "code",
      "execution_count": null,
      "metadata": {
        "id": "lloDmfs2VNnB"
      },
      "outputs": [],
      "source": [
        "# create a dataframe of our sounds\n",
        "\n",
        "def make_csv(dataset_folder):\n",
        "\n",
        "    names = []\n",
        "    genders = []\n",
        "    emotions = []\n",
        "\n",
        "    file_names = os.listdir(dataset_folder)\n",
        "\n",
        "    for file in file_names:\n",
        "        info = file.split('_')[0]\n",
        "        gender = 0 if info[0] == 'F' else 1 # 0 for Female and 1 for male\n",
        "        emotion = info[3] # S = sadness, A = anger, H = happiness, W = surprise, F = fear, N = neutral\n",
        "\n",
        "        names.append(f'{dataset_folder}/{file}')\n",
        "        genders.append(gender)\n",
        "        emotions.append(emotion)\n",
        "\n",
        "    df = pd.DataFrame({\n",
        "        'sound_name': names,\n",
        "        'gender': genders,\n",
        "        'emotion': emotions\n",
        "    })\n",
        "\n",
        "    return df\n"
      ]
    },
    {
      "cell_type": "code",
      "execution_count": null,
      "metadata": {
        "colab": {
          "base_uri": "https://localhost:8080/",
          "height": 424
        },
        "id": "qzh6HbXpVNnB",
        "outputId": "c1db2a45-5442-4205-cd05-1c8ec4398e07"
      },
      "outputs": [
        {
          "data": {
            "application/vnd.google.colaboratory.intrinsic+json": {
              "summary": "{\n  \"name\": \"df\",\n  \"rows\": 21245,\n  \"fields\": [\n    {\n      \"column\": \"sound_name\",\n      \"properties\": {\n        \"dtype\": \"string\",\n        \"num_unique_values\": 21245,\n        \"samples\": [\n          \"drive/MyDrive/aug_shemo/F21A19_speed_1.0.wav\",\n          \"drive/MyDrive/aug_shemo/F21H07_speed_0.7.wav\",\n          \"drive/MyDrive/aug_shemo/M56A01_pitch_2.wav\"\n        ],\n        \"semantic_type\": \"\",\n        \"description\": \"\"\n      }\n    },\n    {\n      \"column\": \"gender\",\n      \"properties\": {\n        \"dtype\": \"number\",\n        \"std\": 0,\n        \"min\": 0,\n        \"max\": 1,\n        \"num_unique_values\": 2,\n        \"samples\": [\n          1,\n          0\n        ],\n        \"semantic_type\": \"\",\n        \"description\": \"\"\n      }\n    },\n    {\n      \"column\": \"emotion\",\n      \"properties\": {\n        \"dtype\": \"category\",\n        \"num_unique_values\": 6,\n        \"samples\": [\n          \"F\",\n          \"W\"\n        ],\n        \"semantic_type\": \"\",\n        \"description\": \"\"\n      }\n    }\n  ]\n}",
              "type": "dataframe",
              "variable_name": "df"
            },
            "text/html": [
              "\n",
              "  <div id=\"df-adc8e7f1-2e32-445f-9d24-8aa05863e839\" class=\"colab-df-container\">\n",
              "    <div>\n",
              "<style scoped>\n",
              "    .dataframe tbody tr th:only-of-type {\n",
              "        vertical-align: middle;\n",
              "    }\n",
              "\n",
              "    .dataframe tbody tr th {\n",
              "        vertical-align: top;\n",
              "    }\n",
              "\n",
              "    .dataframe thead th {\n",
              "        text-align: right;\n",
              "    }\n",
              "</style>\n",
              "<table border=\"1\" class=\"dataframe\">\n",
              "  <thead>\n",
              "    <tr style=\"text-align: right;\">\n",
              "      <th></th>\n",
              "      <th>sound_name</th>\n",
              "      <th>gender</th>\n",
              "      <th>emotion</th>\n",
              "    </tr>\n",
              "  </thead>\n",
              "  <tbody>\n",
              "    <tr>\n",
              "      <th>0</th>\n",
              "      <td>drive/MyDrive/aug_shemo/F22F01_speed_1.0.wav</td>\n",
              "      <td>0</td>\n",
              "      <td>F</td>\n",
              "    </tr>\n",
              "    <tr>\n",
              "      <th>1</th>\n",
              "      <td>drive/MyDrive/aug_shemo/F22F01_speed_1.3.wav</td>\n",
              "      <td>0</td>\n",
              "      <td>F</td>\n",
              "    </tr>\n",
              "    <tr>\n",
              "      <th>2</th>\n",
              "      <td>drive/MyDrive/aug_shemo/F22F01_pitch_-2.wav</td>\n",
              "      <td>0</td>\n",
              "      <td>F</td>\n",
              "    </tr>\n",
              "    <tr>\n",
              "      <th>3</th>\n",
              "      <td>drive/MyDrive/aug_shemo/F22F01_pitch_0.wav</td>\n",
              "      <td>0</td>\n",
              "      <td>F</td>\n",
              "    </tr>\n",
              "    <tr>\n",
              "      <th>4</th>\n",
              "      <td>drive/MyDrive/aug_shemo/F22F01_pitch_2.wav</td>\n",
              "      <td>0</td>\n",
              "      <td>F</td>\n",
              "    </tr>\n",
              "    <tr>\n",
              "      <th>...</th>\n",
              "      <td>...</td>\n",
              "      <td>...</td>\n",
              "      <td>...</td>\n",
              "    </tr>\n",
              "    <tr>\n",
              "      <th>21240</th>\n",
              "      <td>drive/MyDrive/aug_shemo/M20N06_speed_1.3.wav</td>\n",
              "      <td>1</td>\n",
              "      <td>N</td>\n",
              "    </tr>\n",
              "    <tr>\n",
              "      <th>21241</th>\n",
              "      <td>drive/MyDrive/aug_shemo/M20N06_pitch_-2.wav</td>\n",
              "      <td>1</td>\n",
              "      <td>N</td>\n",
              "    </tr>\n",
              "    <tr>\n",
              "      <th>21242</th>\n",
              "      <td>drive/MyDrive/aug_shemo/M20N06_pitch_0.wav</td>\n",
              "      <td>1</td>\n",
              "      <td>N</td>\n",
              "    </tr>\n",
              "    <tr>\n",
              "      <th>21243</th>\n",
              "      <td>drive/MyDrive/aug_shemo/M20N06_pitch_2.wav</td>\n",
              "      <td>1</td>\n",
              "      <td>N</td>\n",
              "    </tr>\n",
              "    <tr>\n",
              "      <th>21244</th>\n",
              "      <td>drive/MyDrive/aug_shemo/M20N06_noisy.wav</td>\n",
              "      <td>1</td>\n",
              "      <td>N</td>\n",
              "    </tr>\n",
              "  </tbody>\n",
              "</table>\n",
              "<p>21245 rows × 3 columns</p>\n",
              "</div>\n",
              "    <div class=\"colab-df-buttons\">\n",
              "\n",
              "  <div class=\"colab-df-container\">\n",
              "    <button class=\"colab-df-convert\" onclick=\"convertToInteractive('df-adc8e7f1-2e32-445f-9d24-8aa05863e839')\"\n",
              "            title=\"Convert this dataframe to an interactive table.\"\n",
              "            style=\"display:none;\">\n",
              "\n",
              "  <svg xmlns=\"http://www.w3.org/2000/svg\" height=\"24px\" viewBox=\"0 -960 960 960\">\n",
              "    <path d=\"M120-120v-720h720v720H120Zm60-500h600v-160H180v160Zm220 220h160v-160H400v160Zm0 220h160v-160H400v160ZM180-400h160v-160H180v160Zm440 0h160v-160H620v160ZM180-180h160v-160H180v160Zm440 0h160v-160H620v160Z\"/>\n",
              "  </svg>\n",
              "    </button>\n",
              "\n",
              "  <style>\n",
              "    .colab-df-container {\n",
              "      display:flex;\n",
              "      gap: 12px;\n",
              "    }\n",
              "\n",
              "    .colab-df-convert {\n",
              "      background-color: #E8F0FE;\n",
              "      border: none;\n",
              "      border-radius: 50%;\n",
              "      cursor: pointer;\n",
              "      display: none;\n",
              "      fill: #1967D2;\n",
              "      height: 32px;\n",
              "      padding: 0 0 0 0;\n",
              "      width: 32px;\n",
              "    }\n",
              "\n",
              "    .colab-df-convert:hover {\n",
              "      background-color: #E2EBFA;\n",
              "      box-shadow: 0px 1px 2px rgba(60, 64, 67, 0.3), 0px 1px 3px 1px rgba(60, 64, 67, 0.15);\n",
              "      fill: #174EA6;\n",
              "    }\n",
              "\n",
              "    .colab-df-buttons div {\n",
              "      margin-bottom: 4px;\n",
              "    }\n",
              "\n",
              "    [theme=dark] .colab-df-convert {\n",
              "      background-color: #3B4455;\n",
              "      fill: #D2E3FC;\n",
              "    }\n",
              "\n",
              "    [theme=dark] .colab-df-convert:hover {\n",
              "      background-color: #434B5C;\n",
              "      box-shadow: 0px 1px 3px 1px rgba(0, 0, 0, 0.15);\n",
              "      filter: drop-shadow(0px 1px 2px rgba(0, 0, 0, 0.3));\n",
              "      fill: #FFFFFF;\n",
              "    }\n",
              "  </style>\n",
              "\n",
              "    <script>\n",
              "      const buttonEl =\n",
              "        document.querySelector('#df-adc8e7f1-2e32-445f-9d24-8aa05863e839 button.colab-df-convert');\n",
              "      buttonEl.style.display =\n",
              "        google.colab.kernel.accessAllowed ? 'block' : 'none';\n",
              "\n",
              "      async function convertToInteractive(key) {\n",
              "        const element = document.querySelector('#df-adc8e7f1-2e32-445f-9d24-8aa05863e839');\n",
              "        const dataTable =\n",
              "          await google.colab.kernel.invokeFunction('convertToInteractive',\n",
              "                                                    [key], {});\n",
              "        if (!dataTable) return;\n",
              "\n",
              "        const docLinkHtml = 'Like what you see? Visit the ' +\n",
              "          '<a target=\"_blank\" href=https://colab.research.google.com/notebooks/data_table.ipynb>data table notebook</a>'\n",
              "          + ' to learn more about interactive tables.';\n",
              "        element.innerHTML = '';\n",
              "        dataTable['output_type'] = 'display_data';\n",
              "        await google.colab.output.renderOutput(dataTable, element);\n",
              "        const docLink = document.createElement('div');\n",
              "        docLink.innerHTML = docLinkHtml;\n",
              "        element.appendChild(docLink);\n",
              "      }\n",
              "    </script>\n",
              "  </div>\n",
              "\n",
              "\n",
              "<div id=\"df-2bde81e0-aaa0-4baf-96d7-51c8bc78a4a3\">\n",
              "  <button class=\"colab-df-quickchart\" onclick=\"quickchart('df-2bde81e0-aaa0-4baf-96d7-51c8bc78a4a3')\"\n",
              "            title=\"Suggest charts\"\n",
              "            style=\"display:none;\">\n",
              "\n",
              "<svg xmlns=\"http://www.w3.org/2000/svg\" height=\"24px\"viewBox=\"0 0 24 24\"\n",
              "     width=\"24px\">\n",
              "    <g>\n",
              "        <path d=\"M19 3H5c-1.1 0-2 .9-2 2v14c0 1.1.9 2 2 2h14c1.1 0 2-.9 2-2V5c0-1.1-.9-2-2-2zM9 17H7v-7h2v7zm4 0h-2V7h2v10zm4 0h-2v-4h2v4z\"/>\n",
              "    </g>\n",
              "</svg>\n",
              "  </button>\n",
              "\n",
              "<style>\n",
              "  .colab-df-quickchart {\n",
              "      --bg-color: #E8F0FE;\n",
              "      --fill-color: #1967D2;\n",
              "      --hover-bg-color: #E2EBFA;\n",
              "      --hover-fill-color: #174EA6;\n",
              "      --disabled-fill-color: #AAA;\n",
              "      --disabled-bg-color: #DDD;\n",
              "  }\n",
              "\n",
              "  [theme=dark] .colab-df-quickchart {\n",
              "      --bg-color: #3B4455;\n",
              "      --fill-color: #D2E3FC;\n",
              "      --hover-bg-color: #434B5C;\n",
              "      --hover-fill-color: #FFFFFF;\n",
              "      --disabled-bg-color: #3B4455;\n",
              "      --disabled-fill-color: #666;\n",
              "  }\n",
              "\n",
              "  .colab-df-quickchart {\n",
              "    background-color: var(--bg-color);\n",
              "    border: none;\n",
              "    border-radius: 50%;\n",
              "    cursor: pointer;\n",
              "    display: none;\n",
              "    fill: var(--fill-color);\n",
              "    height: 32px;\n",
              "    padding: 0;\n",
              "    width: 32px;\n",
              "  }\n",
              "\n",
              "  .colab-df-quickchart:hover {\n",
              "    background-color: var(--hover-bg-color);\n",
              "    box-shadow: 0 1px 2px rgba(60, 64, 67, 0.3), 0 1px 3px 1px rgba(60, 64, 67, 0.15);\n",
              "    fill: var(--button-hover-fill-color);\n",
              "  }\n",
              "\n",
              "  .colab-df-quickchart-complete:disabled,\n",
              "  .colab-df-quickchart-complete:disabled:hover {\n",
              "    background-color: var(--disabled-bg-color);\n",
              "    fill: var(--disabled-fill-color);\n",
              "    box-shadow: none;\n",
              "  }\n",
              "\n",
              "  .colab-df-spinner {\n",
              "    border: 2px solid var(--fill-color);\n",
              "    border-color: transparent;\n",
              "    border-bottom-color: var(--fill-color);\n",
              "    animation:\n",
              "      spin 1s steps(1) infinite;\n",
              "  }\n",
              "\n",
              "  @keyframes spin {\n",
              "    0% {\n",
              "      border-color: transparent;\n",
              "      border-bottom-color: var(--fill-color);\n",
              "      border-left-color: var(--fill-color);\n",
              "    }\n",
              "    20% {\n",
              "      border-color: transparent;\n",
              "      border-left-color: var(--fill-color);\n",
              "      border-top-color: var(--fill-color);\n",
              "    }\n",
              "    30% {\n",
              "      border-color: transparent;\n",
              "      border-left-color: var(--fill-color);\n",
              "      border-top-color: var(--fill-color);\n",
              "      border-right-color: var(--fill-color);\n",
              "    }\n",
              "    40% {\n",
              "      border-color: transparent;\n",
              "      border-right-color: var(--fill-color);\n",
              "      border-top-color: var(--fill-color);\n",
              "    }\n",
              "    60% {\n",
              "      border-color: transparent;\n",
              "      border-right-color: var(--fill-color);\n",
              "    }\n",
              "    80% {\n",
              "      border-color: transparent;\n",
              "      border-right-color: var(--fill-color);\n",
              "      border-bottom-color: var(--fill-color);\n",
              "    }\n",
              "    90% {\n",
              "      border-color: transparent;\n",
              "      border-bottom-color: var(--fill-color);\n",
              "    }\n",
              "  }\n",
              "</style>\n",
              "\n",
              "  <script>\n",
              "    async function quickchart(key) {\n",
              "      const quickchartButtonEl =\n",
              "        document.querySelector('#' + key + ' button');\n",
              "      quickchartButtonEl.disabled = true;  // To prevent multiple clicks.\n",
              "      quickchartButtonEl.classList.add('colab-df-spinner');\n",
              "      try {\n",
              "        const charts = await google.colab.kernel.invokeFunction(\n",
              "            'suggestCharts', [key], {});\n",
              "      } catch (error) {\n",
              "        console.error('Error during call to suggestCharts:', error);\n",
              "      }\n",
              "      quickchartButtonEl.classList.remove('colab-df-spinner');\n",
              "      quickchartButtonEl.classList.add('colab-df-quickchart-complete');\n",
              "    }\n",
              "    (() => {\n",
              "      let quickchartButtonEl =\n",
              "        document.querySelector('#df-2bde81e0-aaa0-4baf-96d7-51c8bc78a4a3 button');\n",
              "      quickchartButtonEl.style.display =\n",
              "        google.colab.kernel.accessAllowed ? 'block' : 'none';\n",
              "    })();\n",
              "  </script>\n",
              "</div>\n",
              "    </div>\n",
              "  </div>\n"
            ],
            "text/plain": [
              "                                         sound_name  gender emotion\n",
              "0      drive/MyDrive/aug_shemo/F22F01_speed_1.0.wav       0       F\n",
              "1      drive/MyDrive/aug_shemo/F22F01_speed_1.3.wav       0       F\n",
              "2       drive/MyDrive/aug_shemo/F22F01_pitch_-2.wav       0       F\n",
              "3        drive/MyDrive/aug_shemo/F22F01_pitch_0.wav       0       F\n",
              "4        drive/MyDrive/aug_shemo/F22F01_pitch_2.wav       0       F\n",
              "...                                             ...     ...     ...\n",
              "21240  drive/MyDrive/aug_shemo/M20N06_speed_1.3.wav       1       N\n",
              "21241   drive/MyDrive/aug_shemo/M20N06_pitch_-2.wav       1       N\n",
              "21242    drive/MyDrive/aug_shemo/M20N06_pitch_0.wav       1       N\n",
              "21243    drive/MyDrive/aug_shemo/M20N06_pitch_2.wav       1       N\n",
              "21244      drive/MyDrive/aug_shemo/M20N06_noisy.wav       1       N\n",
              "\n",
              "[21245 rows x 3 columns]"
            ]
          },
          "execution_count": 6,
          "metadata": {},
          "output_type": "execute_result"
        }
      ],
      "source": [
        "df = make_csv(dataset_folder='drive/MyDrive/aug_shemo')\n",
        "df"
      ]
    },
    {
      "cell_type": "code",
      "execution_count": null,
      "metadata": {
        "colab": {
          "base_uri": "https://localhost:8080/",
          "height": 424
        },
        "id": "QaiCsanBVNnB",
        "outputId": "a3d458f5-a7a1-43de-e542-43698f4fb1a3"
      },
      "outputs": [
        {
          "data": {
            "application/vnd.google.colaboratory.intrinsic+json": {
              "summary": "{\n  \"name\": \"df\",\n  \"rows\": 21245,\n  \"fields\": [\n    {\n      \"column\": \"sound_name\",\n      \"properties\": {\n        \"dtype\": \"string\",\n        \"num_unique_values\": 21245,\n        \"samples\": [\n          \"drive/MyDrive/aug_shemo/F21A19_speed_1.0.wav\",\n          \"drive/MyDrive/aug_shemo/F21H07_speed_0.7.wav\",\n          \"drive/MyDrive/aug_shemo/M56A01_pitch_2.wav\"\n        ],\n        \"semantic_type\": \"\",\n        \"description\": \"\"\n      }\n    },\n    {\n      \"column\": \"gender\",\n      \"properties\": {\n        \"dtype\": \"number\",\n        \"std\": 0,\n        \"min\": 0,\n        \"max\": 1,\n        \"num_unique_values\": 2,\n        \"samples\": [\n          1,\n          0\n        ],\n        \"semantic_type\": \"\",\n        \"description\": \"\"\n      }\n    },\n    {\n      \"column\": \"emotion\",\n      \"properties\": {\n        \"dtype\": \"number\",\n        \"std\": 1,\n        \"min\": 0,\n        \"max\": 5,\n        \"num_unique_values\": 6,\n        \"samples\": [\n          4,\n          5\n        ],\n        \"semantic_type\": \"\",\n        \"description\": \"\"\n      }\n    }\n  ]\n}",
              "type": "dataframe",
              "variable_name": "df"
            },
            "text/html": [
              "\n",
              "  <div id=\"df-7feb0af9-d6a8-40a5-8d3a-f859d1e0466b\" class=\"colab-df-container\">\n",
              "    <div>\n",
              "<style scoped>\n",
              "    .dataframe tbody tr th:only-of-type {\n",
              "        vertical-align: middle;\n",
              "    }\n",
              "\n",
              "    .dataframe tbody tr th {\n",
              "        vertical-align: top;\n",
              "    }\n",
              "\n",
              "    .dataframe thead th {\n",
              "        text-align: right;\n",
              "    }\n",
              "</style>\n",
              "<table border=\"1\" class=\"dataframe\">\n",
              "  <thead>\n",
              "    <tr style=\"text-align: right;\">\n",
              "      <th></th>\n",
              "      <th>sound_name</th>\n",
              "      <th>gender</th>\n",
              "      <th>emotion</th>\n",
              "    </tr>\n",
              "  </thead>\n",
              "  <tbody>\n",
              "    <tr>\n",
              "      <th>0</th>\n",
              "      <td>drive/MyDrive/aug_shemo/F22F01_speed_1.0.wav</td>\n",
              "      <td>0</td>\n",
              "      <td>4</td>\n",
              "    </tr>\n",
              "    <tr>\n",
              "      <th>1</th>\n",
              "      <td>drive/MyDrive/aug_shemo/F22F01_speed_1.3.wav</td>\n",
              "      <td>0</td>\n",
              "      <td>4</td>\n",
              "    </tr>\n",
              "    <tr>\n",
              "      <th>2</th>\n",
              "      <td>drive/MyDrive/aug_shemo/F22F01_pitch_-2.wav</td>\n",
              "      <td>0</td>\n",
              "      <td>4</td>\n",
              "    </tr>\n",
              "    <tr>\n",
              "      <th>3</th>\n",
              "      <td>drive/MyDrive/aug_shemo/F22F01_pitch_0.wav</td>\n",
              "      <td>0</td>\n",
              "      <td>4</td>\n",
              "    </tr>\n",
              "    <tr>\n",
              "      <th>4</th>\n",
              "      <td>drive/MyDrive/aug_shemo/F22F01_pitch_2.wav</td>\n",
              "      <td>0</td>\n",
              "      <td>4</td>\n",
              "    </tr>\n",
              "    <tr>\n",
              "      <th>...</th>\n",
              "      <td>...</td>\n",
              "      <td>...</td>\n",
              "      <td>...</td>\n",
              "    </tr>\n",
              "    <tr>\n",
              "      <th>21240</th>\n",
              "      <td>drive/MyDrive/aug_shemo/M20N06_speed_1.3.wav</td>\n",
              "      <td>1</td>\n",
              "      <td>3</td>\n",
              "    </tr>\n",
              "    <tr>\n",
              "      <th>21241</th>\n",
              "      <td>drive/MyDrive/aug_shemo/M20N06_pitch_-2.wav</td>\n",
              "      <td>1</td>\n",
              "      <td>3</td>\n",
              "    </tr>\n",
              "    <tr>\n",
              "      <th>21242</th>\n",
              "      <td>drive/MyDrive/aug_shemo/M20N06_pitch_0.wav</td>\n",
              "      <td>1</td>\n",
              "      <td>3</td>\n",
              "    </tr>\n",
              "    <tr>\n",
              "      <th>21243</th>\n",
              "      <td>drive/MyDrive/aug_shemo/M20N06_pitch_2.wav</td>\n",
              "      <td>1</td>\n",
              "      <td>3</td>\n",
              "    </tr>\n",
              "    <tr>\n",
              "      <th>21244</th>\n",
              "      <td>drive/MyDrive/aug_shemo/M20N06_noisy.wav</td>\n",
              "      <td>1</td>\n",
              "      <td>3</td>\n",
              "    </tr>\n",
              "  </tbody>\n",
              "</table>\n",
              "<p>21245 rows × 3 columns</p>\n",
              "</div>\n",
              "    <div class=\"colab-df-buttons\">\n",
              "\n",
              "  <div class=\"colab-df-container\">\n",
              "    <button class=\"colab-df-convert\" onclick=\"convertToInteractive('df-7feb0af9-d6a8-40a5-8d3a-f859d1e0466b')\"\n",
              "            title=\"Convert this dataframe to an interactive table.\"\n",
              "            style=\"display:none;\">\n",
              "\n",
              "  <svg xmlns=\"http://www.w3.org/2000/svg\" height=\"24px\" viewBox=\"0 -960 960 960\">\n",
              "    <path d=\"M120-120v-720h720v720H120Zm60-500h600v-160H180v160Zm220 220h160v-160H400v160Zm0 220h160v-160H400v160ZM180-400h160v-160H180v160Zm440 0h160v-160H620v160ZM180-180h160v-160H180v160Zm440 0h160v-160H620v160Z\"/>\n",
              "  </svg>\n",
              "    </button>\n",
              "\n",
              "  <style>\n",
              "    .colab-df-container {\n",
              "      display:flex;\n",
              "      gap: 12px;\n",
              "    }\n",
              "\n",
              "    .colab-df-convert {\n",
              "      background-color: #E8F0FE;\n",
              "      border: none;\n",
              "      border-radius: 50%;\n",
              "      cursor: pointer;\n",
              "      display: none;\n",
              "      fill: #1967D2;\n",
              "      height: 32px;\n",
              "      padding: 0 0 0 0;\n",
              "      width: 32px;\n",
              "    }\n",
              "\n",
              "    .colab-df-convert:hover {\n",
              "      background-color: #E2EBFA;\n",
              "      box-shadow: 0px 1px 2px rgba(60, 64, 67, 0.3), 0px 1px 3px 1px rgba(60, 64, 67, 0.15);\n",
              "      fill: #174EA6;\n",
              "    }\n",
              "\n",
              "    .colab-df-buttons div {\n",
              "      margin-bottom: 4px;\n",
              "    }\n",
              "\n",
              "    [theme=dark] .colab-df-convert {\n",
              "      background-color: #3B4455;\n",
              "      fill: #D2E3FC;\n",
              "    }\n",
              "\n",
              "    [theme=dark] .colab-df-convert:hover {\n",
              "      background-color: #434B5C;\n",
              "      box-shadow: 0px 1px 3px 1px rgba(0, 0, 0, 0.15);\n",
              "      filter: drop-shadow(0px 1px 2px rgba(0, 0, 0, 0.3));\n",
              "      fill: #FFFFFF;\n",
              "    }\n",
              "  </style>\n",
              "\n",
              "    <script>\n",
              "      const buttonEl =\n",
              "        document.querySelector('#df-7feb0af9-d6a8-40a5-8d3a-f859d1e0466b button.colab-df-convert');\n",
              "      buttonEl.style.display =\n",
              "        google.colab.kernel.accessAllowed ? 'block' : 'none';\n",
              "\n",
              "      async function convertToInteractive(key) {\n",
              "        const element = document.querySelector('#df-7feb0af9-d6a8-40a5-8d3a-f859d1e0466b');\n",
              "        const dataTable =\n",
              "          await google.colab.kernel.invokeFunction('convertToInteractive',\n",
              "                                                    [key], {});\n",
              "        if (!dataTable) return;\n",
              "\n",
              "        const docLinkHtml = 'Like what you see? Visit the ' +\n",
              "          '<a target=\"_blank\" href=https://colab.research.google.com/notebooks/data_table.ipynb>data table notebook</a>'\n",
              "          + ' to learn more about interactive tables.';\n",
              "        element.innerHTML = '';\n",
              "        dataTable['output_type'] = 'display_data';\n",
              "        await google.colab.output.renderOutput(dataTable, element);\n",
              "        const docLink = document.createElement('div');\n",
              "        docLink.innerHTML = docLinkHtml;\n",
              "        element.appendChild(docLink);\n",
              "      }\n",
              "    </script>\n",
              "  </div>\n",
              "\n",
              "\n",
              "<div id=\"df-d1ce47b9-21fc-494d-9ef9-f39afa3050c3\">\n",
              "  <button class=\"colab-df-quickchart\" onclick=\"quickchart('df-d1ce47b9-21fc-494d-9ef9-f39afa3050c3')\"\n",
              "            title=\"Suggest charts\"\n",
              "            style=\"display:none;\">\n",
              "\n",
              "<svg xmlns=\"http://www.w3.org/2000/svg\" height=\"24px\"viewBox=\"0 0 24 24\"\n",
              "     width=\"24px\">\n",
              "    <g>\n",
              "        <path d=\"M19 3H5c-1.1 0-2 .9-2 2v14c0 1.1.9 2 2 2h14c1.1 0 2-.9 2-2V5c0-1.1-.9-2-2-2zM9 17H7v-7h2v7zm4 0h-2V7h2v10zm4 0h-2v-4h2v4z\"/>\n",
              "    </g>\n",
              "</svg>\n",
              "  </button>\n",
              "\n",
              "<style>\n",
              "  .colab-df-quickchart {\n",
              "      --bg-color: #E8F0FE;\n",
              "      --fill-color: #1967D2;\n",
              "      --hover-bg-color: #E2EBFA;\n",
              "      --hover-fill-color: #174EA6;\n",
              "      --disabled-fill-color: #AAA;\n",
              "      --disabled-bg-color: #DDD;\n",
              "  }\n",
              "\n",
              "  [theme=dark] .colab-df-quickchart {\n",
              "      --bg-color: #3B4455;\n",
              "      --fill-color: #D2E3FC;\n",
              "      --hover-bg-color: #434B5C;\n",
              "      --hover-fill-color: #FFFFFF;\n",
              "      --disabled-bg-color: #3B4455;\n",
              "      --disabled-fill-color: #666;\n",
              "  }\n",
              "\n",
              "  .colab-df-quickchart {\n",
              "    background-color: var(--bg-color);\n",
              "    border: none;\n",
              "    border-radius: 50%;\n",
              "    cursor: pointer;\n",
              "    display: none;\n",
              "    fill: var(--fill-color);\n",
              "    height: 32px;\n",
              "    padding: 0;\n",
              "    width: 32px;\n",
              "  }\n",
              "\n",
              "  .colab-df-quickchart:hover {\n",
              "    background-color: var(--hover-bg-color);\n",
              "    box-shadow: 0 1px 2px rgba(60, 64, 67, 0.3), 0 1px 3px 1px rgba(60, 64, 67, 0.15);\n",
              "    fill: var(--button-hover-fill-color);\n",
              "  }\n",
              "\n",
              "  .colab-df-quickchart-complete:disabled,\n",
              "  .colab-df-quickchart-complete:disabled:hover {\n",
              "    background-color: var(--disabled-bg-color);\n",
              "    fill: var(--disabled-fill-color);\n",
              "    box-shadow: none;\n",
              "  }\n",
              "\n",
              "  .colab-df-spinner {\n",
              "    border: 2px solid var(--fill-color);\n",
              "    border-color: transparent;\n",
              "    border-bottom-color: var(--fill-color);\n",
              "    animation:\n",
              "      spin 1s steps(1) infinite;\n",
              "  }\n",
              "\n",
              "  @keyframes spin {\n",
              "    0% {\n",
              "      border-color: transparent;\n",
              "      border-bottom-color: var(--fill-color);\n",
              "      border-left-color: var(--fill-color);\n",
              "    }\n",
              "    20% {\n",
              "      border-color: transparent;\n",
              "      border-left-color: var(--fill-color);\n",
              "      border-top-color: var(--fill-color);\n",
              "    }\n",
              "    30% {\n",
              "      border-color: transparent;\n",
              "      border-left-color: var(--fill-color);\n",
              "      border-top-color: var(--fill-color);\n",
              "      border-right-color: var(--fill-color);\n",
              "    }\n",
              "    40% {\n",
              "      border-color: transparent;\n",
              "      border-right-color: var(--fill-color);\n",
              "      border-top-color: var(--fill-color);\n",
              "    }\n",
              "    60% {\n",
              "      border-color: transparent;\n",
              "      border-right-color: var(--fill-color);\n",
              "    }\n",
              "    80% {\n",
              "      border-color: transparent;\n",
              "      border-right-color: var(--fill-color);\n",
              "      border-bottom-color: var(--fill-color);\n",
              "    }\n",
              "    90% {\n",
              "      border-color: transparent;\n",
              "      border-bottom-color: var(--fill-color);\n",
              "    }\n",
              "  }\n",
              "</style>\n",
              "\n",
              "  <script>\n",
              "    async function quickchart(key) {\n",
              "      const quickchartButtonEl =\n",
              "        document.querySelector('#' + key + ' button');\n",
              "      quickchartButtonEl.disabled = true;  // To prevent multiple clicks.\n",
              "      quickchartButtonEl.classList.add('colab-df-spinner');\n",
              "      try {\n",
              "        const charts = await google.colab.kernel.invokeFunction(\n",
              "            'suggestCharts', [key], {});\n",
              "      } catch (error) {\n",
              "        console.error('Error during call to suggestCharts:', error);\n",
              "      }\n",
              "      quickchartButtonEl.classList.remove('colab-df-spinner');\n",
              "      quickchartButtonEl.classList.add('colab-df-quickchart-complete');\n",
              "    }\n",
              "    (() => {\n",
              "      let quickchartButtonEl =\n",
              "        document.querySelector('#df-d1ce47b9-21fc-494d-9ef9-f39afa3050c3 button');\n",
              "      quickchartButtonEl.style.display =\n",
              "        google.colab.kernel.accessAllowed ? 'block' : 'none';\n",
              "    })();\n",
              "  </script>\n",
              "</div>\n",
              "    </div>\n",
              "  </div>\n"
            ],
            "text/plain": [
              "                                         sound_name  gender  emotion\n",
              "0      drive/MyDrive/aug_shemo/F22F01_speed_1.0.wav       0        4\n",
              "1      drive/MyDrive/aug_shemo/F22F01_speed_1.3.wav       0        4\n",
              "2       drive/MyDrive/aug_shemo/F22F01_pitch_-2.wav       0        4\n",
              "3        drive/MyDrive/aug_shemo/F22F01_pitch_0.wav       0        4\n",
              "4        drive/MyDrive/aug_shemo/F22F01_pitch_2.wav       0        4\n",
              "...                                             ...     ...      ...\n",
              "21240  drive/MyDrive/aug_shemo/M20N06_speed_1.3.wav       1        3\n",
              "21241   drive/MyDrive/aug_shemo/M20N06_pitch_-2.wav       1        3\n",
              "21242    drive/MyDrive/aug_shemo/M20N06_pitch_0.wav       1        3\n",
              "21243    drive/MyDrive/aug_shemo/M20N06_pitch_2.wav       1        3\n",
              "21244      drive/MyDrive/aug_shemo/M20N06_noisy.wav       1        3\n",
              "\n",
              "[21245 rows x 3 columns]"
            ]
          },
          "execution_count": 7,
          "metadata": {},
          "output_type": "execute_result"
        }
      ],
      "source": [
        "# encoding the emotion column in df\n",
        "def emotion_encoder(x):\n",
        "    emotions_dict = {\n",
        "    'S': 0, # Sadness\n",
        "    'A': 1, # Angry\n",
        "    'H': 2, # Happiness\n",
        "    'N': 3, # Neutral\n",
        "    'F': 4, # Fear\n",
        "    'W': 5 # Surprize\n",
        "    }\n",
        "\n",
        "    return int(emotions_dict.get(x))\n",
        "\n",
        "df['emotion'] = df['emotion'].apply(emotion_encoder)\n",
        "df"
      ]
    },
    {
      "cell_type": "code",
      "execution_count": null,
      "metadata": {
        "colab": {
          "base_uri": "https://localhost:8080/",
          "height": 424
        },
        "id": "fO2OiPYkCkBa",
        "outputId": "d66ebca2-6907-4240-be3d-e31489a7e44e"
      },
      "outputs": [
        {
          "data": {
            "application/vnd.google.colaboratory.intrinsic+json": {
              "summary": "{\n  \"name\": \"df\",\n  \"rows\": 19369,\n  \"fields\": [\n    {\n      \"column\": \"sound_name\",\n      \"properties\": {\n        \"dtype\": \"string\",\n        \"num_unique_values\": 19369,\n        \"samples\": [\n          \"drive/MyDrive/aug_shemo/M03S11_pitch_0.wav\",\n          \"drive/MyDrive/aug_shemo/F13A11_pitch_0.wav\",\n          \"drive/MyDrive/aug_shemo/M44N07_speed_1.3.wav\"\n        ],\n        \"semantic_type\": \"\",\n        \"description\": \"\"\n      }\n    },\n    {\n      \"column\": \"gender\",\n      \"properties\": {\n        \"dtype\": \"number\",\n        \"std\": 0,\n        \"min\": 0,\n        \"max\": 1,\n        \"num_unique_values\": 2,\n        \"samples\": [\n          1,\n          0\n        ],\n        \"semantic_type\": \"\",\n        \"description\": \"\"\n      }\n    },\n    {\n      \"column\": \"emotion\",\n      \"properties\": {\n        \"dtype\": \"number\",\n        \"std\": 1,\n        \"min\": 0,\n        \"max\": 3,\n        \"num_unique_values\": 4,\n        \"samples\": [\n          1,\n          3\n        ],\n        \"semantic_type\": \"\",\n        \"description\": \"\"\n      }\n    }\n  ]\n}",
              "type": "dataframe",
              "variable_name": "df"
            },
            "text/html": [
              "\n",
              "  <div id=\"df-8aac98b4-2c15-4b23-a11c-e590a727ac22\" class=\"colab-df-container\">\n",
              "    <div>\n",
              "<style scoped>\n",
              "    .dataframe tbody tr th:only-of-type {\n",
              "        vertical-align: middle;\n",
              "    }\n",
              "\n",
              "    .dataframe tbody tr th {\n",
              "        vertical-align: top;\n",
              "    }\n",
              "\n",
              "    .dataframe thead th {\n",
              "        text-align: right;\n",
              "    }\n",
              "</style>\n",
              "<table border=\"1\" class=\"dataframe\">\n",
              "  <thead>\n",
              "    <tr style=\"text-align: right;\">\n",
              "      <th></th>\n",
              "      <th>sound_name</th>\n",
              "      <th>gender</th>\n",
              "      <th>emotion</th>\n",
              "    </tr>\n",
              "  </thead>\n",
              "  <tbody>\n",
              "    <tr>\n",
              "      <th>13</th>\n",
              "      <td>drive/MyDrive/aug_shemo/F22S02_speed_0.7.wav</td>\n",
              "      <td>0</td>\n",
              "      <td>0</td>\n",
              "    </tr>\n",
              "    <tr>\n",
              "      <th>14</th>\n",
              "      <td>drive/MyDrive/aug_shemo/F22S02_speed_1.0.wav</td>\n",
              "      <td>0</td>\n",
              "      <td>0</td>\n",
              "    </tr>\n",
              "    <tr>\n",
              "      <th>15</th>\n",
              "      <td>drive/MyDrive/aug_shemo/F22S02_speed_1.3.wav</td>\n",
              "      <td>0</td>\n",
              "      <td>0</td>\n",
              "    </tr>\n",
              "    <tr>\n",
              "      <th>16</th>\n",
              "      <td>drive/MyDrive/aug_shemo/F22S02_pitch_-2.wav</td>\n",
              "      <td>0</td>\n",
              "      <td>0</td>\n",
              "    </tr>\n",
              "    <tr>\n",
              "      <th>17</th>\n",
              "      <td>drive/MyDrive/aug_shemo/F22S02_pitch_0.wav</td>\n",
              "      <td>0</td>\n",
              "      <td>0</td>\n",
              "    </tr>\n",
              "    <tr>\n",
              "      <th>...</th>\n",
              "      <td>...</td>\n",
              "      <td>...</td>\n",
              "      <td>...</td>\n",
              "    </tr>\n",
              "    <tr>\n",
              "      <th>21240</th>\n",
              "      <td>drive/MyDrive/aug_shemo/M20N06_speed_1.3.wav</td>\n",
              "      <td>1</td>\n",
              "      <td>3</td>\n",
              "    </tr>\n",
              "    <tr>\n",
              "      <th>21241</th>\n",
              "      <td>drive/MyDrive/aug_shemo/M20N06_pitch_-2.wav</td>\n",
              "      <td>1</td>\n",
              "      <td>3</td>\n",
              "    </tr>\n",
              "    <tr>\n",
              "      <th>21242</th>\n",
              "      <td>drive/MyDrive/aug_shemo/M20N06_pitch_0.wav</td>\n",
              "      <td>1</td>\n",
              "      <td>3</td>\n",
              "    </tr>\n",
              "    <tr>\n",
              "      <th>21243</th>\n",
              "      <td>drive/MyDrive/aug_shemo/M20N06_pitch_2.wav</td>\n",
              "      <td>1</td>\n",
              "      <td>3</td>\n",
              "    </tr>\n",
              "    <tr>\n",
              "      <th>21244</th>\n",
              "      <td>drive/MyDrive/aug_shemo/M20N06_noisy.wav</td>\n",
              "      <td>1</td>\n",
              "      <td>3</td>\n",
              "    </tr>\n",
              "  </tbody>\n",
              "</table>\n",
              "<p>19369 rows × 3 columns</p>\n",
              "</div>\n",
              "    <div class=\"colab-df-buttons\">\n",
              "\n",
              "  <div class=\"colab-df-container\">\n",
              "    <button class=\"colab-df-convert\" onclick=\"convertToInteractive('df-8aac98b4-2c15-4b23-a11c-e590a727ac22')\"\n",
              "            title=\"Convert this dataframe to an interactive table.\"\n",
              "            style=\"display:none;\">\n",
              "\n",
              "  <svg xmlns=\"http://www.w3.org/2000/svg\" height=\"24px\" viewBox=\"0 -960 960 960\">\n",
              "    <path d=\"M120-120v-720h720v720H120Zm60-500h600v-160H180v160Zm220 220h160v-160H400v160Zm0 220h160v-160H400v160ZM180-400h160v-160H180v160Zm440 0h160v-160H620v160ZM180-180h160v-160H180v160Zm440 0h160v-160H620v160Z\"/>\n",
              "  </svg>\n",
              "    </button>\n",
              "\n",
              "  <style>\n",
              "    .colab-df-container {\n",
              "      display:flex;\n",
              "      gap: 12px;\n",
              "    }\n",
              "\n",
              "    .colab-df-convert {\n",
              "      background-color: #E8F0FE;\n",
              "      border: none;\n",
              "      border-radius: 50%;\n",
              "      cursor: pointer;\n",
              "      display: none;\n",
              "      fill: #1967D2;\n",
              "      height: 32px;\n",
              "      padding: 0 0 0 0;\n",
              "      width: 32px;\n",
              "    }\n",
              "\n",
              "    .colab-df-convert:hover {\n",
              "      background-color: #E2EBFA;\n",
              "      box-shadow: 0px 1px 2px rgba(60, 64, 67, 0.3), 0px 1px 3px 1px rgba(60, 64, 67, 0.15);\n",
              "      fill: #174EA6;\n",
              "    }\n",
              "\n",
              "    .colab-df-buttons div {\n",
              "      margin-bottom: 4px;\n",
              "    }\n",
              "\n",
              "    [theme=dark] .colab-df-convert {\n",
              "      background-color: #3B4455;\n",
              "      fill: #D2E3FC;\n",
              "    }\n",
              "\n",
              "    [theme=dark] .colab-df-convert:hover {\n",
              "      background-color: #434B5C;\n",
              "      box-shadow: 0px 1px 3px 1px rgba(0, 0, 0, 0.15);\n",
              "      filter: drop-shadow(0px 1px 2px rgba(0, 0, 0, 0.3));\n",
              "      fill: #FFFFFF;\n",
              "    }\n",
              "  </style>\n",
              "\n",
              "    <script>\n",
              "      const buttonEl =\n",
              "        document.querySelector('#df-8aac98b4-2c15-4b23-a11c-e590a727ac22 button.colab-df-convert');\n",
              "      buttonEl.style.display =\n",
              "        google.colab.kernel.accessAllowed ? 'block' : 'none';\n",
              "\n",
              "      async function convertToInteractive(key) {\n",
              "        const element = document.querySelector('#df-8aac98b4-2c15-4b23-a11c-e590a727ac22');\n",
              "        const dataTable =\n",
              "          await google.colab.kernel.invokeFunction('convertToInteractive',\n",
              "                                                    [key], {});\n",
              "        if (!dataTable) return;\n",
              "\n",
              "        const docLinkHtml = 'Like what you see? Visit the ' +\n",
              "          '<a target=\"_blank\" href=https://colab.research.google.com/notebooks/data_table.ipynb>data table notebook</a>'\n",
              "          + ' to learn more about interactive tables.';\n",
              "        element.innerHTML = '';\n",
              "        dataTable['output_type'] = 'display_data';\n",
              "        await google.colab.output.renderOutput(dataTable, element);\n",
              "        const docLink = document.createElement('div');\n",
              "        docLink.innerHTML = docLinkHtml;\n",
              "        element.appendChild(docLink);\n",
              "      }\n",
              "    </script>\n",
              "  </div>\n",
              "\n",
              "\n",
              "<div id=\"df-4706c9af-6387-4f26-96e3-f85725b8829f\">\n",
              "  <button class=\"colab-df-quickchart\" onclick=\"quickchart('df-4706c9af-6387-4f26-96e3-f85725b8829f')\"\n",
              "            title=\"Suggest charts\"\n",
              "            style=\"display:none;\">\n",
              "\n",
              "<svg xmlns=\"http://www.w3.org/2000/svg\" height=\"24px\"viewBox=\"0 0 24 24\"\n",
              "     width=\"24px\">\n",
              "    <g>\n",
              "        <path d=\"M19 3H5c-1.1 0-2 .9-2 2v14c0 1.1.9 2 2 2h14c1.1 0 2-.9 2-2V5c0-1.1-.9-2-2-2zM9 17H7v-7h2v7zm4 0h-2V7h2v10zm4 0h-2v-4h2v4z\"/>\n",
              "    </g>\n",
              "</svg>\n",
              "  </button>\n",
              "\n",
              "<style>\n",
              "  .colab-df-quickchart {\n",
              "      --bg-color: #E8F0FE;\n",
              "      --fill-color: #1967D2;\n",
              "      --hover-bg-color: #E2EBFA;\n",
              "      --hover-fill-color: #174EA6;\n",
              "      --disabled-fill-color: #AAA;\n",
              "      --disabled-bg-color: #DDD;\n",
              "  }\n",
              "\n",
              "  [theme=dark] .colab-df-quickchart {\n",
              "      --bg-color: #3B4455;\n",
              "      --fill-color: #D2E3FC;\n",
              "      --hover-bg-color: #434B5C;\n",
              "      --hover-fill-color: #FFFFFF;\n",
              "      --disabled-bg-color: #3B4455;\n",
              "      --disabled-fill-color: #666;\n",
              "  }\n",
              "\n",
              "  .colab-df-quickchart {\n",
              "    background-color: var(--bg-color);\n",
              "    border: none;\n",
              "    border-radius: 50%;\n",
              "    cursor: pointer;\n",
              "    display: none;\n",
              "    fill: var(--fill-color);\n",
              "    height: 32px;\n",
              "    padding: 0;\n",
              "    width: 32px;\n",
              "  }\n",
              "\n",
              "  .colab-df-quickchart:hover {\n",
              "    background-color: var(--hover-bg-color);\n",
              "    box-shadow: 0 1px 2px rgba(60, 64, 67, 0.3), 0 1px 3px 1px rgba(60, 64, 67, 0.15);\n",
              "    fill: var(--button-hover-fill-color);\n",
              "  }\n",
              "\n",
              "  .colab-df-quickchart-complete:disabled,\n",
              "  .colab-df-quickchart-complete:disabled:hover {\n",
              "    background-color: var(--disabled-bg-color);\n",
              "    fill: var(--disabled-fill-color);\n",
              "    box-shadow: none;\n",
              "  }\n",
              "\n",
              "  .colab-df-spinner {\n",
              "    border: 2px solid var(--fill-color);\n",
              "    border-color: transparent;\n",
              "    border-bottom-color: var(--fill-color);\n",
              "    animation:\n",
              "      spin 1s steps(1) infinite;\n",
              "  }\n",
              "\n",
              "  @keyframes spin {\n",
              "    0% {\n",
              "      border-color: transparent;\n",
              "      border-bottom-color: var(--fill-color);\n",
              "      border-left-color: var(--fill-color);\n",
              "    }\n",
              "    20% {\n",
              "      border-color: transparent;\n",
              "      border-left-color: var(--fill-color);\n",
              "      border-top-color: var(--fill-color);\n",
              "    }\n",
              "    30% {\n",
              "      border-color: transparent;\n",
              "      border-left-color: var(--fill-color);\n",
              "      border-top-color: var(--fill-color);\n",
              "      border-right-color: var(--fill-color);\n",
              "    }\n",
              "    40% {\n",
              "      border-color: transparent;\n",
              "      border-right-color: var(--fill-color);\n",
              "      border-top-color: var(--fill-color);\n",
              "    }\n",
              "    60% {\n",
              "      border-color: transparent;\n",
              "      border-right-color: var(--fill-color);\n",
              "    }\n",
              "    80% {\n",
              "      border-color: transparent;\n",
              "      border-right-color: var(--fill-color);\n",
              "      border-bottom-color: var(--fill-color);\n",
              "    }\n",
              "    90% {\n",
              "      border-color: transparent;\n",
              "      border-bottom-color: var(--fill-color);\n",
              "    }\n",
              "  }\n",
              "</style>\n",
              "\n",
              "  <script>\n",
              "    async function quickchart(key) {\n",
              "      const quickchartButtonEl =\n",
              "        document.querySelector('#' + key + ' button');\n",
              "      quickchartButtonEl.disabled = true;  // To prevent multiple clicks.\n",
              "      quickchartButtonEl.classList.add('colab-df-spinner');\n",
              "      try {\n",
              "        const charts = await google.colab.kernel.invokeFunction(\n",
              "            'suggestCharts', [key], {});\n",
              "      } catch (error) {\n",
              "        console.error('Error during call to suggestCharts:', error);\n",
              "      }\n",
              "      quickchartButtonEl.classList.remove('colab-df-spinner');\n",
              "      quickchartButtonEl.classList.add('colab-df-quickchart-complete');\n",
              "    }\n",
              "    (() => {\n",
              "      let quickchartButtonEl =\n",
              "        document.querySelector('#df-4706c9af-6387-4f26-96e3-f85725b8829f button');\n",
              "      quickchartButtonEl.style.display =\n",
              "        google.colab.kernel.accessAllowed ? 'block' : 'none';\n",
              "    })();\n",
              "  </script>\n",
              "</div>\n",
              "    </div>\n",
              "  </div>\n"
            ],
            "text/plain": [
              "                                         sound_name  gender  emotion\n",
              "13     drive/MyDrive/aug_shemo/F22S02_speed_0.7.wav       0        0\n",
              "14     drive/MyDrive/aug_shemo/F22S02_speed_1.0.wav       0        0\n",
              "15     drive/MyDrive/aug_shemo/F22S02_speed_1.3.wav       0        0\n",
              "16      drive/MyDrive/aug_shemo/F22S02_pitch_-2.wav       0        0\n",
              "17       drive/MyDrive/aug_shemo/F22S02_pitch_0.wav       0        0\n",
              "...                                             ...     ...      ...\n",
              "21240  drive/MyDrive/aug_shemo/M20N06_speed_1.3.wav       1        3\n",
              "21241   drive/MyDrive/aug_shemo/M20N06_pitch_-2.wav       1        3\n",
              "21242    drive/MyDrive/aug_shemo/M20N06_pitch_0.wav       1        3\n",
              "21243    drive/MyDrive/aug_shemo/M20N06_pitch_2.wav       1        3\n",
              "21244      drive/MyDrive/aug_shemo/M20N06_noisy.wav       1        3\n",
              "\n",
              "[19369 rows x 3 columns]"
            ]
          },
          "execution_count": 8,
          "metadata": {},
          "output_type": "execute_result"
        }
      ],
      "source": [
        "df = df[~df['emotion'].isin([4, 5])]\n",
        "df"
      ]
    },
    {
      "cell_type": "code",
      "execution_count": null,
      "metadata": {
        "colab": {
          "base_uri": "https://localhost:8080/",
          "height": 424
        },
        "id": "9IJzVM8kVWIo",
        "outputId": "7cf90653-eecb-498e-d658-79c88a66dd96"
      },
      "outputs": [
        {
          "data": {
            "application/vnd.google.colaboratory.intrinsic+json": {
              "summary": "{\n  \"name\": \"df\",\n  \"rows\": 11312,\n  \"fields\": [\n    {\n      \"column\": \"sound_name\",\n      \"properties\": {\n        \"dtype\": \"string\",\n        \"num_unique_values\": 11312,\n        \"samples\": [\n          \"drive/MyDrive/aug_shemo/M25A05_speed_1.3.wav\",\n          \"drive/MyDrive/aug_shemo/M03A19_noisy.wav\",\n          \"drive/MyDrive/aug_shemo/M56N05_pitch_0.wav\"\n        ],\n        \"semantic_type\": \"\",\n        \"description\": \"\"\n      }\n    },\n    {\n      \"column\": \"gender\",\n      \"properties\": {\n        \"dtype\": \"number\",\n        \"std\": 0,\n        \"min\": 1,\n        \"max\": 1,\n        \"num_unique_values\": 1,\n        \"samples\": [\n          1\n        ],\n        \"semantic_type\": \"\",\n        \"description\": \"\"\n      }\n    },\n    {\n      \"column\": \"emotion\",\n      \"properties\": {\n        \"dtype\": \"number\",\n        \"std\": 1,\n        \"min\": 0,\n        \"max\": 3,\n        \"num_unique_values\": 4,\n        \"samples\": [\n          3\n        ],\n        \"semantic_type\": \"\",\n        \"description\": \"\"\n      }\n    }\n  ]\n}",
              "type": "dataframe",
              "variable_name": "df"
            },
            "text/html": [
              "\n",
              "  <div id=\"df-4ed35d30-de6b-4a70-8243-a4491099efaa\" class=\"colab-df-container\">\n",
              "    <div>\n",
              "<style scoped>\n",
              "    .dataframe tbody tr th:only-of-type {\n",
              "        vertical-align: middle;\n",
              "    }\n",
              "\n",
              "    .dataframe tbody tr th {\n",
              "        vertical-align: top;\n",
              "    }\n",
              "\n",
              "    .dataframe thead th {\n",
              "        text-align: right;\n",
              "    }\n",
              "</style>\n",
              "<table border=\"1\" class=\"dataframe\">\n",
              "  <thead>\n",
              "    <tr style=\"text-align: right;\">\n",
              "      <th></th>\n",
              "      <th>sound_name</th>\n",
              "      <th>gender</th>\n",
              "      <th>emotion</th>\n",
              "    </tr>\n",
              "  </thead>\n",
              "  <tbody>\n",
              "    <tr>\n",
              "      <th>7000</th>\n",
              "      <td>drive/MyDrive/aug_shemo/M16A25_speed_1.0.wav</td>\n",
              "      <td>1</td>\n",
              "      <td>1</td>\n",
              "    </tr>\n",
              "    <tr>\n",
              "      <th>7001</th>\n",
              "      <td>drive/MyDrive/aug_shemo/M16A25_speed_1.3.wav</td>\n",
              "      <td>1</td>\n",
              "      <td>1</td>\n",
              "    </tr>\n",
              "    <tr>\n",
              "      <th>7002</th>\n",
              "      <td>drive/MyDrive/aug_shemo/M16A25_pitch_-2.wav</td>\n",
              "      <td>1</td>\n",
              "      <td>1</td>\n",
              "    </tr>\n",
              "    <tr>\n",
              "      <th>7003</th>\n",
              "      <td>drive/MyDrive/aug_shemo/M16A25_pitch_0.wav</td>\n",
              "      <td>1</td>\n",
              "      <td>1</td>\n",
              "    </tr>\n",
              "    <tr>\n",
              "      <th>7004</th>\n",
              "      <td>drive/MyDrive/aug_shemo/M16A25_pitch_2.wav</td>\n",
              "      <td>1</td>\n",
              "      <td>1</td>\n",
              "    </tr>\n",
              "    <tr>\n",
              "      <th>...</th>\n",
              "      <td>...</td>\n",
              "      <td>...</td>\n",
              "      <td>...</td>\n",
              "    </tr>\n",
              "    <tr>\n",
              "      <th>21240</th>\n",
              "      <td>drive/MyDrive/aug_shemo/M20N06_speed_1.3.wav</td>\n",
              "      <td>1</td>\n",
              "      <td>3</td>\n",
              "    </tr>\n",
              "    <tr>\n",
              "      <th>21241</th>\n",
              "      <td>drive/MyDrive/aug_shemo/M20N06_pitch_-2.wav</td>\n",
              "      <td>1</td>\n",
              "      <td>3</td>\n",
              "    </tr>\n",
              "    <tr>\n",
              "      <th>21242</th>\n",
              "      <td>drive/MyDrive/aug_shemo/M20N06_pitch_0.wav</td>\n",
              "      <td>1</td>\n",
              "      <td>3</td>\n",
              "    </tr>\n",
              "    <tr>\n",
              "      <th>21243</th>\n",
              "      <td>drive/MyDrive/aug_shemo/M20N06_pitch_2.wav</td>\n",
              "      <td>1</td>\n",
              "      <td>3</td>\n",
              "    </tr>\n",
              "    <tr>\n",
              "      <th>21244</th>\n",
              "      <td>drive/MyDrive/aug_shemo/M20N06_noisy.wav</td>\n",
              "      <td>1</td>\n",
              "      <td>3</td>\n",
              "    </tr>\n",
              "  </tbody>\n",
              "</table>\n",
              "<p>11312 rows × 3 columns</p>\n",
              "</div>\n",
              "    <div class=\"colab-df-buttons\">\n",
              "\n",
              "  <div class=\"colab-df-container\">\n",
              "    <button class=\"colab-df-convert\" onclick=\"convertToInteractive('df-4ed35d30-de6b-4a70-8243-a4491099efaa')\"\n",
              "            title=\"Convert this dataframe to an interactive table.\"\n",
              "            style=\"display:none;\">\n",
              "\n",
              "  <svg xmlns=\"http://www.w3.org/2000/svg\" height=\"24px\" viewBox=\"0 -960 960 960\">\n",
              "    <path d=\"M120-120v-720h720v720H120Zm60-500h600v-160H180v160Zm220 220h160v-160H400v160Zm0 220h160v-160H400v160ZM180-400h160v-160H180v160Zm440 0h160v-160H620v160ZM180-180h160v-160H180v160Zm440 0h160v-160H620v160Z\"/>\n",
              "  </svg>\n",
              "    </button>\n",
              "\n",
              "  <style>\n",
              "    .colab-df-container {\n",
              "      display:flex;\n",
              "      gap: 12px;\n",
              "    }\n",
              "\n",
              "    .colab-df-convert {\n",
              "      background-color: #E8F0FE;\n",
              "      border: none;\n",
              "      border-radius: 50%;\n",
              "      cursor: pointer;\n",
              "      display: none;\n",
              "      fill: #1967D2;\n",
              "      height: 32px;\n",
              "      padding: 0 0 0 0;\n",
              "      width: 32px;\n",
              "    }\n",
              "\n",
              "    .colab-df-convert:hover {\n",
              "      background-color: #E2EBFA;\n",
              "      box-shadow: 0px 1px 2px rgba(60, 64, 67, 0.3), 0px 1px 3px 1px rgba(60, 64, 67, 0.15);\n",
              "      fill: #174EA6;\n",
              "    }\n",
              "\n",
              "    .colab-df-buttons div {\n",
              "      margin-bottom: 4px;\n",
              "    }\n",
              "\n",
              "    [theme=dark] .colab-df-convert {\n",
              "      background-color: #3B4455;\n",
              "      fill: #D2E3FC;\n",
              "    }\n",
              "\n",
              "    [theme=dark] .colab-df-convert:hover {\n",
              "      background-color: #434B5C;\n",
              "      box-shadow: 0px 1px 3px 1px rgba(0, 0, 0, 0.15);\n",
              "      filter: drop-shadow(0px 1px 2px rgba(0, 0, 0, 0.3));\n",
              "      fill: #FFFFFF;\n",
              "    }\n",
              "  </style>\n",
              "\n",
              "    <script>\n",
              "      const buttonEl =\n",
              "        document.querySelector('#df-4ed35d30-de6b-4a70-8243-a4491099efaa button.colab-df-convert');\n",
              "      buttonEl.style.display =\n",
              "        google.colab.kernel.accessAllowed ? 'block' : 'none';\n",
              "\n",
              "      async function convertToInteractive(key) {\n",
              "        const element = document.querySelector('#df-4ed35d30-de6b-4a70-8243-a4491099efaa');\n",
              "        const dataTable =\n",
              "          await google.colab.kernel.invokeFunction('convertToInteractive',\n",
              "                                                    [key], {});\n",
              "        if (!dataTable) return;\n",
              "\n",
              "        const docLinkHtml = 'Like what you see? Visit the ' +\n",
              "          '<a target=\"_blank\" href=https://colab.research.google.com/notebooks/data_table.ipynb>data table notebook</a>'\n",
              "          + ' to learn more about interactive tables.';\n",
              "        element.innerHTML = '';\n",
              "        dataTable['output_type'] = 'display_data';\n",
              "        await google.colab.output.renderOutput(dataTable, element);\n",
              "        const docLink = document.createElement('div');\n",
              "        docLink.innerHTML = docLinkHtml;\n",
              "        element.appendChild(docLink);\n",
              "      }\n",
              "    </script>\n",
              "  </div>\n",
              "\n",
              "\n",
              "<div id=\"df-df157073-c9b3-4bd7-8d4f-1ebe47e22b1c\">\n",
              "  <button class=\"colab-df-quickchart\" onclick=\"quickchart('df-df157073-c9b3-4bd7-8d4f-1ebe47e22b1c')\"\n",
              "            title=\"Suggest charts\"\n",
              "            style=\"display:none;\">\n",
              "\n",
              "<svg xmlns=\"http://www.w3.org/2000/svg\" height=\"24px\"viewBox=\"0 0 24 24\"\n",
              "     width=\"24px\">\n",
              "    <g>\n",
              "        <path d=\"M19 3H5c-1.1 0-2 .9-2 2v14c0 1.1.9 2 2 2h14c1.1 0 2-.9 2-2V5c0-1.1-.9-2-2-2zM9 17H7v-7h2v7zm4 0h-2V7h2v10zm4 0h-2v-4h2v4z\"/>\n",
              "    </g>\n",
              "</svg>\n",
              "  </button>\n",
              "\n",
              "<style>\n",
              "  .colab-df-quickchart {\n",
              "      --bg-color: #E8F0FE;\n",
              "      --fill-color: #1967D2;\n",
              "      --hover-bg-color: #E2EBFA;\n",
              "      --hover-fill-color: #174EA6;\n",
              "      --disabled-fill-color: #AAA;\n",
              "      --disabled-bg-color: #DDD;\n",
              "  }\n",
              "\n",
              "  [theme=dark] .colab-df-quickchart {\n",
              "      --bg-color: #3B4455;\n",
              "      --fill-color: #D2E3FC;\n",
              "      --hover-bg-color: #434B5C;\n",
              "      --hover-fill-color: #FFFFFF;\n",
              "      --disabled-bg-color: #3B4455;\n",
              "      --disabled-fill-color: #666;\n",
              "  }\n",
              "\n",
              "  .colab-df-quickchart {\n",
              "    background-color: var(--bg-color);\n",
              "    border: none;\n",
              "    border-radius: 50%;\n",
              "    cursor: pointer;\n",
              "    display: none;\n",
              "    fill: var(--fill-color);\n",
              "    height: 32px;\n",
              "    padding: 0;\n",
              "    width: 32px;\n",
              "  }\n",
              "\n",
              "  .colab-df-quickchart:hover {\n",
              "    background-color: var(--hover-bg-color);\n",
              "    box-shadow: 0 1px 2px rgba(60, 64, 67, 0.3), 0 1px 3px 1px rgba(60, 64, 67, 0.15);\n",
              "    fill: var(--button-hover-fill-color);\n",
              "  }\n",
              "\n",
              "  .colab-df-quickchart-complete:disabled,\n",
              "  .colab-df-quickchart-complete:disabled:hover {\n",
              "    background-color: var(--disabled-bg-color);\n",
              "    fill: var(--disabled-fill-color);\n",
              "    box-shadow: none;\n",
              "  }\n",
              "\n",
              "  .colab-df-spinner {\n",
              "    border: 2px solid var(--fill-color);\n",
              "    border-color: transparent;\n",
              "    border-bottom-color: var(--fill-color);\n",
              "    animation:\n",
              "      spin 1s steps(1) infinite;\n",
              "  }\n",
              "\n",
              "  @keyframes spin {\n",
              "    0% {\n",
              "      border-color: transparent;\n",
              "      border-bottom-color: var(--fill-color);\n",
              "      border-left-color: var(--fill-color);\n",
              "    }\n",
              "    20% {\n",
              "      border-color: transparent;\n",
              "      border-left-color: var(--fill-color);\n",
              "      border-top-color: var(--fill-color);\n",
              "    }\n",
              "    30% {\n",
              "      border-color: transparent;\n",
              "      border-left-color: var(--fill-color);\n",
              "      border-top-color: var(--fill-color);\n",
              "      border-right-color: var(--fill-color);\n",
              "    }\n",
              "    40% {\n",
              "      border-color: transparent;\n",
              "      border-right-color: var(--fill-color);\n",
              "      border-top-color: var(--fill-color);\n",
              "    }\n",
              "    60% {\n",
              "      border-color: transparent;\n",
              "      border-right-color: var(--fill-color);\n",
              "    }\n",
              "    80% {\n",
              "      border-color: transparent;\n",
              "      border-right-color: var(--fill-color);\n",
              "      border-bottom-color: var(--fill-color);\n",
              "    }\n",
              "    90% {\n",
              "      border-color: transparent;\n",
              "      border-bottom-color: var(--fill-color);\n",
              "    }\n",
              "  }\n",
              "</style>\n",
              "\n",
              "  <script>\n",
              "    async function quickchart(key) {\n",
              "      const quickchartButtonEl =\n",
              "        document.querySelector('#' + key + ' button');\n",
              "      quickchartButtonEl.disabled = true;  // To prevent multiple clicks.\n",
              "      quickchartButtonEl.classList.add('colab-df-spinner');\n",
              "      try {\n",
              "        const charts = await google.colab.kernel.invokeFunction(\n",
              "            'suggestCharts', [key], {});\n",
              "      } catch (error) {\n",
              "        console.error('Error during call to suggestCharts:', error);\n",
              "      }\n",
              "      quickchartButtonEl.classList.remove('colab-df-spinner');\n",
              "      quickchartButtonEl.classList.add('colab-df-quickchart-complete');\n",
              "    }\n",
              "    (() => {\n",
              "      let quickchartButtonEl =\n",
              "        document.querySelector('#df-df157073-c9b3-4bd7-8d4f-1ebe47e22b1c button');\n",
              "      quickchartButtonEl.style.display =\n",
              "        google.colab.kernel.accessAllowed ? 'block' : 'none';\n",
              "    })();\n",
              "  </script>\n",
              "</div>\n",
              "    </div>\n",
              "  </div>\n"
            ],
            "text/plain": [
              "                                         sound_name  gender  emotion\n",
              "7000   drive/MyDrive/aug_shemo/M16A25_speed_1.0.wav       1        1\n",
              "7001   drive/MyDrive/aug_shemo/M16A25_speed_1.3.wav       1        1\n",
              "7002    drive/MyDrive/aug_shemo/M16A25_pitch_-2.wav       1        1\n",
              "7003     drive/MyDrive/aug_shemo/M16A25_pitch_0.wav       1        1\n",
              "7004     drive/MyDrive/aug_shemo/M16A25_pitch_2.wav       1        1\n",
              "...                                             ...     ...      ...\n",
              "21240  drive/MyDrive/aug_shemo/M20N06_speed_1.3.wav       1        3\n",
              "21241   drive/MyDrive/aug_shemo/M20N06_pitch_-2.wav       1        3\n",
              "21242    drive/MyDrive/aug_shemo/M20N06_pitch_0.wav       1        3\n",
              "21243    drive/MyDrive/aug_shemo/M20N06_pitch_2.wav       1        3\n",
              "21244      drive/MyDrive/aug_shemo/M20N06_noisy.wav       1        3\n",
              "\n",
              "[11312 rows x 3 columns]"
            ]
          },
          "execution_count": 9,
          "metadata": {},
          "output_type": "execute_result"
        }
      ],
      "source": [
        "df = df[df['gender']==1]\n",
        "df"
      ]
    },
    {
      "cell_type": "code",
      "execution_count": null,
      "metadata": {
        "id": "na-ynZQAD95d"
      },
      "outputs": [],
      "source": [
        "labels = df['emotion'].values\n",
        "\n",
        "class_weights = compute_class_weight('balanced', classes=np.unique(labels), y=labels)"
      ]
    },
    {
      "cell_type": "code",
      "execution_count": null,
      "metadata": {
        "colab": {
          "base_uri": "https://localhost:8080/"
        },
        "id": "VRP-PRACEEZK",
        "outputId": "dfe87055-3389-481d-ad05-c36abacb4eb5"
      },
      "outputs": [
        {
          "data": {
            "text/plain": [
              "array([2.26966292, 0.66887417, 4.48888889, 0.54301075])"
            ]
          },
          "execution_count": 11,
          "metadata": {},
          "output_type": "execute_result"
        }
      ],
      "source": [
        "class_weights"
      ]
    },
    {
      "cell_type": "markdown",
      "metadata": {
        "id": "68gi9OksVNnB"
      },
      "source": [
        "### EDA"
      ]
    },
    {
      "cell_type": "code",
      "execution_count": null,
      "metadata": {
        "colab": {
          "base_uri": "https://localhost:8080/",
          "height": 300
        },
        "id": "F43KN0R0VNnB",
        "outputId": "d864b3f1-5068-4b7f-cead-a581bed0edb7"
      },
      "outputs": [
        {
          "data": {
            "application/vnd.google.colaboratory.intrinsic+json": {
              "summary": "{\n  \"name\": \"df\",\n  \"rows\": 8,\n  \"fields\": [\n    {\n      \"column\": \"gender\",\n      \"properties\": {\n        \"dtype\": \"number\",\n        \"std\": 7511.036376281204,\n        \"min\": 0.0,\n        \"max\": 21245.0,\n        \"num_unique_values\": 5,\n        \"samples\": [\n          0.5723228995057661,\n          1.0,\n          0.49475339313674827\n        ],\n        \"semantic_type\": \"\",\n        \"description\": \"\"\n      }\n    },\n    {\n      \"column\": \"emotion\",\n      \"properties\": {\n        \"dtype\": \"number\",\n        \"std\": 7510.4112293107755,\n        \"min\": 0.0,\n        \"max\": 21245.0,\n        \"num_unique_values\": 6,\n        \"samples\": [\n          21245.0,\n          2.4688632619439868,\n          5.0\n        ],\n        \"semantic_type\": \"\",\n        \"description\": \"\"\n      }\n    }\n  ]\n}",
              "type": "dataframe"
            },
            "text/html": [
              "\n",
              "  <div id=\"df-7bfe702f-2d5e-4be6-b9d0-c1eed12cac75\" class=\"colab-df-container\">\n",
              "    <div>\n",
              "<style scoped>\n",
              "    .dataframe tbody tr th:only-of-type {\n",
              "        vertical-align: middle;\n",
              "    }\n",
              "\n",
              "    .dataframe tbody tr th {\n",
              "        vertical-align: top;\n",
              "    }\n",
              "\n",
              "    .dataframe thead th {\n",
              "        text-align: right;\n",
              "    }\n",
              "</style>\n",
              "<table border=\"1\" class=\"dataframe\">\n",
              "  <thead>\n",
              "    <tr style=\"text-align: right;\">\n",
              "      <th></th>\n",
              "      <th>gender</th>\n",
              "      <th>emotion</th>\n",
              "    </tr>\n",
              "  </thead>\n",
              "  <tbody>\n",
              "    <tr>\n",
              "      <th>count</th>\n",
              "      <td>21245.000000</td>\n",
              "      <td>21245.000000</td>\n",
              "    </tr>\n",
              "    <tr>\n",
              "      <th>mean</th>\n",
              "      <td>0.572323</td>\n",
              "      <td>2.468863</td>\n",
              "    </tr>\n",
              "    <tr>\n",
              "      <th>std</th>\n",
              "      <td>0.494753</td>\n",
              "      <td>1.979663</td>\n",
              "    </tr>\n",
              "    <tr>\n",
              "      <th>min</th>\n",
              "      <td>0.000000</td>\n",
              "      <td>0.000000</td>\n",
              "    </tr>\n",
              "    <tr>\n",
              "      <th>25%</th>\n",
              "      <td>0.000000</td>\n",
              "      <td>1.000000</td>\n",
              "    </tr>\n",
              "    <tr>\n",
              "      <th>50%</th>\n",
              "      <td>1.000000</td>\n",
              "      <td>1.000000</td>\n",
              "    </tr>\n",
              "    <tr>\n",
              "      <th>75%</th>\n",
              "      <td>1.000000</td>\n",
              "      <td>5.000000</td>\n",
              "    </tr>\n",
              "    <tr>\n",
              "      <th>max</th>\n",
              "      <td>1.000000</td>\n",
              "      <td>5.000000</td>\n",
              "    </tr>\n",
              "  </tbody>\n",
              "</table>\n",
              "</div>\n",
              "    <div class=\"colab-df-buttons\">\n",
              "\n",
              "  <div class=\"colab-df-container\">\n",
              "    <button class=\"colab-df-convert\" onclick=\"convertToInteractive('df-7bfe702f-2d5e-4be6-b9d0-c1eed12cac75')\"\n",
              "            title=\"Convert this dataframe to an interactive table.\"\n",
              "            style=\"display:none;\">\n",
              "\n",
              "  <svg xmlns=\"http://www.w3.org/2000/svg\" height=\"24px\" viewBox=\"0 -960 960 960\">\n",
              "    <path d=\"M120-120v-720h720v720H120Zm60-500h600v-160H180v160Zm220 220h160v-160H400v160Zm0 220h160v-160H400v160ZM180-400h160v-160H180v160Zm440 0h160v-160H620v160ZM180-180h160v-160H180v160Zm440 0h160v-160H620v160Z\"/>\n",
              "  </svg>\n",
              "    </button>\n",
              "\n",
              "  <style>\n",
              "    .colab-df-container {\n",
              "      display:flex;\n",
              "      gap: 12px;\n",
              "    }\n",
              "\n",
              "    .colab-df-convert {\n",
              "      background-color: #E8F0FE;\n",
              "      border: none;\n",
              "      border-radius: 50%;\n",
              "      cursor: pointer;\n",
              "      display: none;\n",
              "      fill: #1967D2;\n",
              "      height: 32px;\n",
              "      padding: 0 0 0 0;\n",
              "      width: 32px;\n",
              "    }\n",
              "\n",
              "    .colab-df-convert:hover {\n",
              "      background-color: #E2EBFA;\n",
              "      box-shadow: 0px 1px 2px rgba(60, 64, 67, 0.3), 0px 1px 3px 1px rgba(60, 64, 67, 0.15);\n",
              "      fill: #174EA6;\n",
              "    }\n",
              "\n",
              "    .colab-df-buttons div {\n",
              "      margin-bottom: 4px;\n",
              "    }\n",
              "\n",
              "    [theme=dark] .colab-df-convert {\n",
              "      background-color: #3B4455;\n",
              "      fill: #D2E3FC;\n",
              "    }\n",
              "\n",
              "    [theme=dark] .colab-df-convert:hover {\n",
              "      background-color: #434B5C;\n",
              "      box-shadow: 0px 1px 3px 1px rgba(0, 0, 0, 0.15);\n",
              "      filter: drop-shadow(0px 1px 2px rgba(0, 0, 0, 0.3));\n",
              "      fill: #FFFFFF;\n",
              "    }\n",
              "  </style>\n",
              "\n",
              "    <script>\n",
              "      const buttonEl =\n",
              "        document.querySelector('#df-7bfe702f-2d5e-4be6-b9d0-c1eed12cac75 button.colab-df-convert');\n",
              "      buttonEl.style.display =\n",
              "        google.colab.kernel.accessAllowed ? 'block' : 'none';\n",
              "\n",
              "      async function convertToInteractive(key) {\n",
              "        const element = document.querySelector('#df-7bfe702f-2d5e-4be6-b9d0-c1eed12cac75');\n",
              "        const dataTable =\n",
              "          await google.colab.kernel.invokeFunction('convertToInteractive',\n",
              "                                                    [key], {});\n",
              "        if (!dataTable) return;\n",
              "\n",
              "        const docLinkHtml = 'Like what you see? Visit the ' +\n",
              "          '<a target=\"_blank\" href=https://colab.research.google.com/notebooks/data_table.ipynb>data table notebook</a>'\n",
              "          + ' to learn more about interactive tables.';\n",
              "        element.innerHTML = '';\n",
              "        dataTable['output_type'] = 'display_data';\n",
              "        await google.colab.output.renderOutput(dataTable, element);\n",
              "        const docLink = document.createElement('div');\n",
              "        docLink.innerHTML = docLinkHtml;\n",
              "        element.appendChild(docLink);\n",
              "      }\n",
              "    </script>\n",
              "  </div>\n",
              "\n",
              "\n",
              "<div id=\"df-c33ebd53-b4e7-42c9-afca-bea04f219ee6\">\n",
              "  <button class=\"colab-df-quickchart\" onclick=\"quickchart('df-c33ebd53-b4e7-42c9-afca-bea04f219ee6')\"\n",
              "            title=\"Suggest charts\"\n",
              "            style=\"display:none;\">\n",
              "\n",
              "<svg xmlns=\"http://www.w3.org/2000/svg\" height=\"24px\"viewBox=\"0 0 24 24\"\n",
              "     width=\"24px\">\n",
              "    <g>\n",
              "        <path d=\"M19 3H5c-1.1 0-2 .9-2 2v14c0 1.1.9 2 2 2h14c1.1 0 2-.9 2-2V5c0-1.1-.9-2-2-2zM9 17H7v-7h2v7zm4 0h-2V7h2v10zm4 0h-2v-4h2v4z\"/>\n",
              "    </g>\n",
              "</svg>\n",
              "  </button>\n",
              "\n",
              "<style>\n",
              "  .colab-df-quickchart {\n",
              "      --bg-color: #E8F0FE;\n",
              "      --fill-color: #1967D2;\n",
              "      --hover-bg-color: #E2EBFA;\n",
              "      --hover-fill-color: #174EA6;\n",
              "      --disabled-fill-color: #AAA;\n",
              "      --disabled-bg-color: #DDD;\n",
              "  }\n",
              "\n",
              "  [theme=dark] .colab-df-quickchart {\n",
              "      --bg-color: #3B4455;\n",
              "      --fill-color: #D2E3FC;\n",
              "      --hover-bg-color: #434B5C;\n",
              "      --hover-fill-color: #FFFFFF;\n",
              "      --disabled-bg-color: #3B4455;\n",
              "      --disabled-fill-color: #666;\n",
              "  }\n",
              "\n",
              "  .colab-df-quickchart {\n",
              "    background-color: var(--bg-color);\n",
              "    border: none;\n",
              "    border-radius: 50%;\n",
              "    cursor: pointer;\n",
              "    display: none;\n",
              "    fill: var(--fill-color);\n",
              "    height: 32px;\n",
              "    padding: 0;\n",
              "    width: 32px;\n",
              "  }\n",
              "\n",
              "  .colab-df-quickchart:hover {\n",
              "    background-color: var(--hover-bg-color);\n",
              "    box-shadow: 0 1px 2px rgba(60, 64, 67, 0.3), 0 1px 3px 1px rgba(60, 64, 67, 0.15);\n",
              "    fill: var(--button-hover-fill-color);\n",
              "  }\n",
              "\n",
              "  .colab-df-quickchart-complete:disabled,\n",
              "  .colab-df-quickchart-complete:disabled:hover {\n",
              "    background-color: var(--disabled-bg-color);\n",
              "    fill: var(--disabled-fill-color);\n",
              "    box-shadow: none;\n",
              "  }\n",
              "\n",
              "  .colab-df-spinner {\n",
              "    border: 2px solid var(--fill-color);\n",
              "    border-color: transparent;\n",
              "    border-bottom-color: var(--fill-color);\n",
              "    animation:\n",
              "      spin 1s steps(1) infinite;\n",
              "  }\n",
              "\n",
              "  @keyframes spin {\n",
              "    0% {\n",
              "      border-color: transparent;\n",
              "      border-bottom-color: var(--fill-color);\n",
              "      border-left-color: var(--fill-color);\n",
              "    }\n",
              "    20% {\n",
              "      border-color: transparent;\n",
              "      border-left-color: var(--fill-color);\n",
              "      border-top-color: var(--fill-color);\n",
              "    }\n",
              "    30% {\n",
              "      border-color: transparent;\n",
              "      border-left-color: var(--fill-color);\n",
              "      border-top-color: var(--fill-color);\n",
              "      border-right-color: var(--fill-color);\n",
              "    }\n",
              "    40% {\n",
              "      border-color: transparent;\n",
              "      border-right-color: var(--fill-color);\n",
              "      border-top-color: var(--fill-color);\n",
              "    }\n",
              "    60% {\n",
              "      border-color: transparent;\n",
              "      border-right-color: var(--fill-color);\n",
              "    }\n",
              "    80% {\n",
              "      border-color: transparent;\n",
              "      border-right-color: var(--fill-color);\n",
              "      border-bottom-color: var(--fill-color);\n",
              "    }\n",
              "    90% {\n",
              "      border-color: transparent;\n",
              "      border-bottom-color: var(--fill-color);\n",
              "    }\n",
              "  }\n",
              "</style>\n",
              "\n",
              "  <script>\n",
              "    async function quickchart(key) {\n",
              "      const quickchartButtonEl =\n",
              "        document.querySelector('#' + key + ' button');\n",
              "      quickchartButtonEl.disabled = true;  // To prevent multiple clicks.\n",
              "      quickchartButtonEl.classList.add('colab-df-spinner');\n",
              "      try {\n",
              "        const charts = await google.colab.kernel.invokeFunction(\n",
              "            'suggestCharts', [key], {});\n",
              "      } catch (error) {\n",
              "        console.error('Error during call to suggestCharts:', error);\n",
              "      }\n",
              "      quickchartButtonEl.classList.remove('colab-df-spinner');\n",
              "      quickchartButtonEl.classList.add('colab-df-quickchart-complete');\n",
              "    }\n",
              "    (() => {\n",
              "      let quickchartButtonEl =\n",
              "        document.querySelector('#df-c33ebd53-b4e7-42c9-afca-bea04f219ee6 button');\n",
              "      quickchartButtonEl.style.display =\n",
              "        google.colab.kernel.accessAllowed ? 'block' : 'none';\n",
              "    })();\n",
              "  </script>\n",
              "</div>\n",
              "    </div>\n",
              "  </div>\n"
            ],
            "text/plain": [
              "             gender       emotion\n",
              "count  21245.000000  21245.000000\n",
              "mean       0.572323      2.468863\n",
              "std        0.494753      1.979663\n",
              "min        0.000000      0.000000\n",
              "25%        0.000000      1.000000\n",
              "50%        1.000000      1.000000\n",
              "75%        1.000000      5.000000\n",
              "max        1.000000      5.000000"
            ]
          },
          "execution_count": 18,
          "metadata": {},
          "output_type": "execute_result"
        }
      ],
      "source": [
        "df.describe()"
      ]
    },
    {
      "cell_type": "code",
      "execution_count": null,
      "metadata": {
        "colab": {
          "base_uri": "https://localhost:8080/",
          "height": 447
        },
        "id": "k-v2l0sRVNnB",
        "outputId": "72b0050a-e826-4596-8fbe-c1d93537f20e"
      },
      "outputs": [
        {
          "data": {
            "text/plain": [
              "<Axes: >"
            ]
          },
          "execution_count": 19,
          "metadata": {},
          "output_type": "execute_result"
        },
        {
          "data": {
            "image/png": "[encoded data removed]",
            "text/plain": [
              "<Figure size 640x480 with 1 Axes>"
            ]
          },
          "metadata": {},
          "output_type": "display_data"
        }
      ],
      "source": [
        "df['gender'].hist()"
      ]
    },
    {
      "cell_type": "code",
      "execution_count": null,
      "metadata": {
        "colab": {
          "base_uri": "https://localhost:8080/",
          "height": 447
        },
        "id": "fu93EeqOVNnB",
        "outputId": "4848ab6e-a9b0-4cbc-c832-9bfd2455976a"
      },
      "outputs": [
        {
          "data": {
            "text/plain": [
              "<Axes: >"
            ]
          },
          "execution_count": 12,
          "metadata": {},
          "output_type": "execute_result"
        },
        {
          "data": {
            "image/png": "[encoded data removed]",
            "text/plain": [
              "<Figure size 640x480 with 1 Axes>"
            ]
          },
          "metadata": {},
          "output_type": "display_data"
        }
      ],
      "source": [
        "df['emotion'].hist()"
      ]
    },
    {
      "cell_type": "code",
      "execution_count": null,
      "metadata": {
        "id": "f1LvUQ0eVNnC",
        "outputId": "45e68db8-d2aa-4618-d05c-e2559ac0574c"
      },
      "outputs": [
        {
          "data": {
            "image/png": "[encoded data removed]",
            "text/plain": [
              "<Figure size 1000x500 with 2 Axes>"
            ]
          },
          "metadata": {},
          "output_type": "display_data"
        }
      ],
      "source": [
        "fig, axes = plt.subplots(nrows=1, ncols=2, figsize=(10, 5))\n",
        "\n",
        "for i, gender in zip(range(2), [0, 1]):\n",
        "\n",
        "    axes[i].violinplot(df['emotion'][df['gender'] == gender])\n",
        "    axes[i].boxplot(df['emotion'][df['gender'] == gender])\n",
        "    axes[i].set_title(gender)"
      ]
    },
    {
      "cell_type": "markdown",
      "metadata": {
        "id": "Ddpq54BUVNnC"
      },
      "source": [
        "### Split dataset"
      ]
    },
    {
      "cell_type": "code",
      "execution_count": null,
      "metadata": {
        "id": "CA_2qbxsVNnC"
      },
      "outputs": [],
      "source": [
        "df_train, df_test = train_test_split(df, test_size=0.2, stratify=df['emotion'], random_state=42)\n",
        "df_test, df_valid = train_test_split(df_test, test_size=0.5, stratify=df_test['emotion'], random_state=42)"
      ]
    },
    {
      "cell_type": "code",
      "execution_count": null,
      "metadata": {
        "colab": {
          "base_uri": "https://localhost:8080/",
          "height": 418
        },
        "id": "2RNwbpUjVNnC",
        "outputId": "6788584a-2691-41ed-c20b-896d15475804"
      },
      "outputs": [
        {
          "data": {
            "image/png": "[encoded data removed]",
            "text/plain": [
              "<Figure size 1500x500 with 3 Axes>"
            ]
          },
          "metadata": {},
          "output_type": "display_data"
        }
      ],
      "source": [
        "fig, axes = plt.subplots(1, 3, figsize=(15, 5))\n",
        "\n",
        "axes[0].hist(df_train.emotion, bins=len(df_train.emotion.unique())); axes[0].set_title('Train')\n",
        "axes[1].hist(df_valid.emotion, bins=len(df_valid.emotion.unique())); axes[1].set_title('Validation')\n",
        "axes[2].hist(df_test.emotion, bins=len(df_test.emotion.unique())); axes[2].set_title('Test');"
      ]
    },
    {
      "cell_type": "markdown",
      "metadata": {
        "id": "OgoO3eFqVNnD"
      },
      "source": [
        "### save the training, test and validation sets in separate CSV file"
      ]
    },
    {
      "cell_type": "code",
      "execution_count": null,
      "metadata": {
        "id": "N3owog8WVNnD"
      },
      "outputs": [],
      "source": [
        "df_train.to_csv('./train_set.csv', index=False)\n",
        "df_valid.to_csv('./valid_set.csv', index=False)\n",
        "df_test.to_csv('./test_set.csv', index=False)"
      ]
    },
    {
      "cell_type": "markdown",
      "metadata": {
        "id": "OZbI5JJkVNnD"
      },
      "source": [
        "### Custom Dataset"
      ]
    },
    {
      "cell_type": "code",
      "execution_count": null,
      "metadata": {
        "id": "ipZiDVvrVNnD"
      },
      "outputs": [],
      "source": [
        "class SHEMO(Dataset):\n",
        "\n",
        "    def __init__(self, root_dir, csv_file, duration, sample_rate):\n",
        "        super().__init__()\n",
        "        self.root_dir = root_dir\n",
        "        self.csv_file = csv_file\n",
        "        self.data = pd.read_csv(f'{self.root_dir}/{self.csv_file}')\n",
        "        self.duration = duration\n",
        "        self.sample_rate = sample_rate\n",
        "\n",
        "    def __len__(self):\n",
        "        return len(self.data)\n",
        "\n",
        "    def __getitem__(self, idx):\n",
        "      sample = self.data.iloc[idx, :]\n",
        "      sound, sr = torchaudio.load(sample.sound_name)\n",
        "      sound = torchaudio.functional.resample(sound, sr, self.sample_rate)\n",
        "      emotion = torch.tensor(sample.emotion, dtype=torch.float32)\n",
        "\n",
        "      if sound.shape[1] <= int(self.duration * self.sample_rate):\n",
        "        pad = torch.zeros(self.duration * self.sample_rate)\n",
        "        pad[:sound.shape[1]] = sound\n",
        "        data = pad\n",
        "        data = data.unsqueeze(0)\n",
        "      else:\n",
        "        cutted = sound[:, :(self.duration * self.sample_rate)]\n",
        "        data = cutted\n",
        "\n",
        "      return data, emotion"
      ]
    },
    {
      "cell_type": "code",
      "execution_count": null,
      "metadata": {
        "colab": {
          "base_uri": "https://localhost:8080/"
        },
        "id": "b7CN507gVNnD",
        "outputId": "a7470b71-4a06-4c1b-e127-c71697e901a9"
      },
      "outputs": [
        {
          "name": "stdout",
          "output_type": "stream",
          "text": [
            "15495\n"
          ]
        },
        {
          "data": {
            "text/plain": [
              "(torch.Size([1, 110000]), tensor(3.))"
            ]
          },
          "execution_count": 35,
          "metadata": {},
          "output_type": "execute_result"
        }
      ],
      "source": [
        "# testing the custom dataset\n",
        "\n",
        "ex = SHEMO('./', 'train_set.csv', 5, 22000)\n",
        "print(ex.__len__())\n",
        "x, y = ex[0]\n",
        "x.shape, y"
      ]
    },
    {
      "cell_type": "code",
      "execution_count": null,
      "metadata": {
        "id": "zmFGa1HnVNnD"
      },
      "outputs": [],
      "source": [
        "# Defining the train, valid and test set; Using our custom dataset(SHEMO)\n",
        "duration = 5\n",
        "sample_rate = 16000\n",
        "\n",
        "train_set = SHEMO(root_dir='./', csv_file='train_set.csv', duration=duration, sample_rate=sample_rate)\n",
        "valid_set = SHEMO(root_dir='./', csv_file='valid_set.csv', duration=duration, sample_rate=sample_rate)\n",
        "test_set = SHEMO(root_dir='./', csv_file='test_set.csv', duration=duration, sample_rate=sample_rate)"
      ]
    },
    {
      "cell_type": "markdown",
      "metadata": {
        "id": "6IfJjeLnVNnD"
      },
      "source": [
        "### DataLoader"
      ]
    },
    {
      "cell_type": "code",
      "execution_count": null,
      "metadata": {
        "id": "K3jRNq3WWCiN"
      },
      "outputs": [],
      "source": [
        "transform = T.MelSpectrogram(sample_rate=sample_rate, n_fft=512, n_mels=128, hop_length=128)"
      ]
    },
    {
      "cell_type": "code",
      "execution_count": null,
      "metadata": {
        "id": "hLqQ3Ee5VNnD"
      },
      "outputs": [],
      "source": [
        "def collate_fn(batch):\n",
        "  x = []\n",
        "  labels = []\n",
        "\n",
        "  for data, label in batch:\n",
        "    data = librosa.effects.preemphasis(np.array(data))\n",
        "    data = librosa.util.normalize(np.array(data), axis=1)\n",
        "    mel_specgram = transform(torch.tensor(data))\n",
        "    x.append(mel_specgram)\n",
        "    labels.append(label)\n",
        "\n",
        "  data = torch.stack(x)\n",
        "  labels = [torch.tensor(l, dtype=torch.int64) for l in labels]\n",
        "  labels = torch.tensor(labels)\n",
        "\n",
        "  return data, labels"
      ]
    },
    {
      "cell_type": "code",
      "execution_count": null,
      "metadata": {
        "id": "_u2C9-cKVNnD"
      },
      "outputs": [],
      "source": [
        "train_loader = DataLoader(train_set, batch_size=32, shuffle=True, collate_fn=collate_fn)\n",
        "valid_loader = DataLoader(valid_set, batch_size=32, shuffle=False, collate_fn=collate_fn)\n",
        "test_loader = DataLoader(test_set, batch_size=32, shuffle=False, collate_fn=collate_fn)"
      ]
    },
    {
      "cell_type": "code",
      "execution_count": null,
      "metadata": {
        "colab": {
          "base_uri": "https://localhost:8080/"
        },
        "id": "H_7qnR6ZVNnD",
        "outputId": "bda98502-9a20-476d-df53-e661ef03ef2c"
      },
      "outputs": [
        {
          "data": {
            "text/plain": [
              "(torch.Size([16, 1, 128, 626]),\n",
              " tensor([1, 1, 1, 0, 0, 1, 3, 3, 1, 3, 1, 1, 1, 0, 1, 3]))"
            ]
          },
          "execution_count": 40,
          "metadata": {},
          "output_type": "execute_result"
        }
      ],
      "source": [
        "# getting a batch from train_loader and test it\n",
        "x, y = next(iter(train_loader))\n",
        "\n",
        "x.shape, y"
      ]
    },
    {
      "cell_type": "markdown",
      "metadata": {
        "id": "jw0MgIN8VNnD"
      },
      "source": [
        "## Model"
      ]
    },
    {
      "cell_type": "code",
      "execution_count": null,
      "metadata": {
        "id": "Z4wWYMm-OfWz"
      },
      "outputs": [],
      "source": [
        "class Cnn_Lstm_Model(nn.Module):\n",
        "    def __init__(self,num_emotions):\n",
        "\n",
        "        super().__init__()\n",
        "        self.num_emotions = num_emotions\n",
        "        self.conv2Dblock = torchvision.models.resnet50()\n",
        "        self.conv2Dblock.conv1 = nn.Conv2d(1, 64, kernel_size=(7, 7), stride=(2, 2), padding=(3, 3), bias=False)\n",
        "        self.features = nn.Sequential(*(list(self.conv2Dblock.children())[:-1]))\n",
        "        self.lstm = nn.LSTM(input_size=2048, hidden_size=128, num_layers=1, batch_first=True)\n",
        "        self.fc = nn.LazyLinear(self.num_emotions)\n",
        "        self.lstm_maxpool = nn.MaxPool2d(kernel_size=[2,4], stride=[2,4])\n",
        "\n",
        "    def forward(self, x):\n",
        "\n",
        "      y = self.features(x)\n",
        "      y = y.flatten(2)\n",
        "      y, _ = self.lstm(y.permute(0, 2, 1))\n",
        "      y = self.fc(y)\n",
        "      y = y.mean(dim=1)\n",
        "      return y"
      ]
    },
    {
      "cell_type": "markdown",
      "metadata": {
        "id": "vaLwZcJTVNnE"
      },
      "source": [
        "## Functions"
      ]
    },
    {
      "cell_type": "code",
      "execution_count": null,
      "metadata": {
        "id": "OqSEY1adVNnE"
      },
      "outputs": [],
      "source": [
        "class AverageMeter(object):\n",
        "\n",
        "    def __init__(self):\n",
        "        self.reset()\n",
        "\n",
        "    def reset(self):\n",
        "        self.val = 0\n",
        "        self.avg = 0\n",
        "        self.sum = 0\n",
        "        self.count = 0\n",
        "\n",
        "    def update(self, val, n=1):\n",
        "        self.val = val\n",
        "        self.sum += val * n\n",
        "        self.count += n\n",
        "        self.avg = self.sum / self.count"
      ]
    },
    {
      "cell_type": "code",
      "execution_count": null,
      "metadata": {
        "id": "H-g45n9dVNnH"
      },
      "outputs": [],
      "source": [
        "def train_one_epoch(model, train_loader, loss_fn, optimizer, metric, epoch=None):\n",
        "\n",
        "  model.train()\n",
        "  loss_train = AverageMeter()\n",
        "  metric.reset()\n",
        "\n",
        "  with tqdm.tqdm(train_loader, unit='batch') as tepoch:\n",
        "    for inputs, targets in tepoch:\n",
        "\n",
        "      inputs = inputs.to(device)\n",
        "      targets = targets.to(device)\n",
        "\n",
        "      if epoch:\n",
        "        tepoch.set_description(f'Epoch {epoch}')\n",
        "\n",
        "      outputs = model(inputs)\n",
        "      loss = loss_fn(outputs, targets)\n",
        "      loss.backward()\n",
        "\n",
        "      optimizer.step()\n",
        "      optimizer.zero_grad()\n",
        "\n",
        "      loss_train.update(loss.item(), n=len(targets))\n",
        "      metric.update(outputs, targets)\n",
        "      tepoch.set_postfix(loss=loss_train.avg, metric=metric.compute().item())\n",
        "\n",
        "  return model, loss_train.avg, metric.compute().item()"
      ]
    },
    {
      "cell_type": "code",
      "execution_count": null,
      "metadata": {
        "id": "EqdMJ7BLVNnH"
      },
      "outputs": [],
      "source": [
        "def evaluate(model, test_loader, loss_fn, metric):\n",
        "  model.eval()\n",
        "  loss_eval = AverageMeter()\n",
        "  metric.reset()\n",
        "\n",
        "  with torch.no_grad():\n",
        "    for inputs, targets in test_loader:\n",
        "\n",
        "      inputs = inputs.to(device)\n",
        "      targets = targets.to(device)\n",
        "\n",
        "      outputs = model(inputs)\n",
        "      loss = loss_fn(outputs, targets)\n",
        "      loss_eval.update(loss.item(), n=len(targets))\n",
        "      metric.update(outputs, targets)\n",
        "\n",
        "  return loss_eval.avg, metric.compute().item()"
      ]
    },
    {
      "cell_type": "markdown",
      "metadata": {
        "id": "AwtbXAAUVNnI"
      },
      "source": [
        "## Config"
      ]
    },
    {
      "cell_type": "code",
      "execution_count": null,
      "metadata": {
        "colab": {
          "base_uri": "https://localhost:8080/"
        },
        "id": "asnd5s3ZVNnI",
        "outputId": "e2f5ebd3-7902-429c-989e-def5ec612f52"
      },
      "outputs": [
        {
          "name": "stdout",
          "output_type": "stream",
          "text": [
            "device: cpu\n",
            "loss function: CrossEntropyLoss()\n",
            "metric: MulticlassAccuracy()\n",
            "optimizer: Adam (\n",
            "Parameter Group 0\n",
            "    amsgrad: False\n",
            "    betas: (0.9, 0.999)\n",
            "    capturable: False\n",
            "    differentiable: False\n",
            "    eps: 1e-08\n",
            "    foreach: None\n",
            "    fused: None\n",
            "    lr: 0.001\n",
            "    maximize: False\n",
            "    weight_decay: 0\n",
            ")\n"
          ]
        }
      ],
      "source": [
        "num_emotions = 4\n",
        "device = 'cuda' if torch.cuda.is_available() else 'cpu'\n",
        "model = Cnn_Lstm_Model(num_emotions=num_emotions).to(device)\n",
        "\n",
        "loss_fn = nn.CrossEntropyLoss(weight=torch.tensor(class_weights, dtype=torch.float))\n",
        "optimizer = optim.Adam(lr=0.001, params=model.parameters())\n",
        "metric = tm.Accuracy(task='multiclass', num_classes=num_emotions).to(device)\n",
        "\n",
        "print(f'device: {device}')\n",
        "print(f'loss function: {loss_fn}')\n",
        "print(f'metric: {metric}')\n",
        "print(f'optimizer: {optimizer}')"
      ]
    },
    {
      "cell_type": "markdown",
      "metadata": {
        "id": "XRNqlgQvVNnI"
      },
      "source": [
        "## Training process"
      ]
    },
    {
      "cell_type": "markdown",
      "metadata": {
        "id": "cctjtF1vVNnI"
      },
      "source": [
        "### Finding Hyper-parameters"
      ]
    },
    {
      "cell_type": "markdown",
      "metadata": {
        "id": "5u-3kCYIVNnI"
      },
      "source": [
        "Calculating the loss for an untrained model using a few batches."
      ]
    },
    {
      "cell_type": "code",
      "execution_count": null,
      "metadata": {
        "colab": {
          "base_uri": "https://localhost:8080/"
        },
        "id": "F92g7uV3VNnI",
        "outputId": "4a8ba633-538d-4012-b1f5-05075e75146c"
      },
      "outputs": [
        {
          "name": "stdout",
          "output_type": "stream",
          "text": [
            "loss: 1.438765287399292\n",
            "loss: 1.4473789930343628\n",
            "loss: 1.4326714277267456\n"
          ]
        }
      ],
      "source": [
        "for i, (x_b, y_b) in zip(range(3), train_loader):\n",
        "  with torch.no_grad():\n",
        "    outputs = model(x_b)\n",
        "    loss = loss_fn(outputs, y_b)\n",
        "    print(f'loss: {loss}')"
      ]
    },
    {
      "cell_type": "markdown",
      "metadata": {
        "id": "BWhkQgwcVNnI"
      },
      "source": [
        "Try to train and overfit the model on a small subset of the dataset."
      ]
    },
    {
      "cell_type": "code",
      "execution_count": null,
      "metadata": {
        "colab": {
          "base_uri": "https://localhost:8080/"
        },
        "id": "CuvGxPpUFd9x",
        "outputId": "2a1a51e6-0596-4b93-9e27-02e1d252d1fc"
      },
      "outputs": [
        {
          "data": {
            "text/plain": [
              "15495"
            ]
          },
          "execution_count": 50,
          "metadata": {},
          "output_type": "execute_result"
        }
      ],
      "source": [
        "len(train_set)"
      ]
    },
    {
      "cell_type": "code",
      "execution_count": null,
      "metadata": {
        "id": "oPDML1k8VNnI"
      },
      "outputs": [],
      "source": [
        "mini_dataset, _ = random_split(train_set, [len(train_set)-15000, 15000])\n",
        "mini_loader = DataLoader(mini_dataset, 4, True, collate_fn=collate_fn)"
      ]
    },
    {
      "cell_type": "code",
      "execution_count": null,
      "metadata": {
        "colab": {
          "base_uri": "https://localhost:8080/"
        },
        "id": "Gf55YrTlGRpT",
        "outputId": "a95c9bbd-5dcc-4cc9-ee5d-3015f63806e4"
      },
      "outputs": [
        {
          "data": {
            "text/plain": [
              "495"
            ]
          },
          "execution_count": 52,
          "metadata": {},
          "output_type": "execute_result"
        }
      ],
      "source": [
        "len(mini_dataset)"
      ]
    },
    {
      "cell_type": "code",
      "execution_count": null,
      "metadata": {
        "id": "lRIEz8d2W-pC"
      },
      "outputs": [],
      "source": [
        "torch.cuda.empty_cache()"
      ]
    },
    {
      "cell_type": "code",
      "execution_count": null,
      "metadata": {
        "colab": {
          "base_uri": "https://localhost:8080/",
          "height": 391
        },
        "id": "86VPYb6wVNnI",
        "outputId": "179bd0df-9e63-45b5-b90b-6a29706b89f8"
      },
      "outputs": [
        {
          "name": "stderr",
          "output_type": "stream",
          "text": [
            "100%|██████████| 124/124 [11:48<00:00,  5.71s/batch, loss=1.34, metric=0.444]\n",
            "Epoch 1:  16%|█▌        | 20/124 [01:28<07:39,  4.42s/batch, loss=1.25, metric=0.438]\n"
          ]
        },
        {
          "ename": "KeyboardInterrupt",
          "evalue": "",
          "output_type": "error",
          "traceback": [
            "\u001b[0;31m---------------------------------------------------------------------------\u001b[0m",
            "\u001b[0;31mKeyboardInterrupt\u001b[0m                         Traceback (most recent call last)",
            "\u001b[0;32m<ipython-input-53-c54442e97044>\u001b[0m in \u001b[0;36m<cell line: 3>\u001b[0;34m()\u001b[0m\n\u001b[1;32m      2\u001b[0m \u001b[0;34m\u001b[0m\u001b[0m\n\u001b[1;32m      3\u001b[0m \u001b[0;32mfor\u001b[0m \u001b[0mepoch\u001b[0m \u001b[0;32min\u001b[0m \u001b[0mrange\u001b[0m\u001b[0;34m(\u001b[0m\u001b[0mn_epochs\u001b[0m\u001b[0;34m)\u001b[0m\u001b[0;34m:\u001b[0m\u001b[0;34m\u001b[0m\u001b[0;34m\u001b[0m\u001b[0m\n\u001b[0;32m----> 4\u001b[0;31m   model, _, _ = train_one_epoch(model,\n\u001b[0m\u001b[1;32m      5\u001b[0m                                 \u001b[0mmini_loader\u001b[0m\u001b[0;34m,\u001b[0m\u001b[0;34m\u001b[0m\u001b[0;34m\u001b[0m\u001b[0m\n\u001b[1;32m      6\u001b[0m                                 \u001b[0mloss_fn\u001b[0m\u001b[0;34m,\u001b[0m\u001b[0;34m\u001b[0m\u001b[0;34m\u001b[0m\u001b[0m\n",
            "\u001b[0;32m<ipython-input-43-d08e5e55fbe0>\u001b[0m in \u001b[0;36mtrain_one_epoch\u001b[0;34m(model, train_loader, loss_fn, optimizer, metric, epoch)\u001b[0m\n\u001b[1;32m     16\u001b[0m       \u001b[0moutputs\u001b[0m \u001b[0;34m=\u001b[0m \u001b[0mmodel\u001b[0m\u001b[0;34m(\u001b[0m\u001b[0minputs\u001b[0m\u001b[0;34m)\u001b[0m\u001b[0;34m\u001b[0m\u001b[0;34m\u001b[0m\u001b[0m\n\u001b[1;32m     17\u001b[0m       \u001b[0mloss\u001b[0m \u001b[0;34m=\u001b[0m \u001b[0mloss_fn\u001b[0m\u001b[0;34m(\u001b[0m\u001b[0moutputs\u001b[0m\u001b[0;34m,\u001b[0m \u001b[0mtargets\u001b[0m\u001b[0;34m)\u001b[0m\u001b[0;34m\u001b[0m\u001b[0;34m\u001b[0m\u001b[0m\n\u001b[0;32m---> 18\u001b[0;31m       \u001b[0mloss\u001b[0m\u001b[0;34m.\u001b[0m\u001b[0mbackward\u001b[0m\u001b[0;34m(\u001b[0m\u001b[0;34m)\u001b[0m\u001b[0;34m\u001b[0m\u001b[0;34m\u001b[0m\u001b[0m\n\u001b[0m\u001b[1;32m     19\u001b[0m \u001b[0;34m\u001b[0m\u001b[0m\n\u001b[1;32m     20\u001b[0m       \u001b[0moptimizer\u001b[0m\u001b[0;34m.\u001b[0m\u001b[0mstep\u001b[0m\u001b[0;34m(\u001b[0m\u001b[0;34m)\u001b[0m\u001b[0;34m\u001b[0m\u001b[0;34m\u001b[0m\u001b[0m\n",
            "\u001b[0;32m/usr/local/lib/python3.10/dist-packages/torch/_tensor.py\u001b[0m in \u001b[0;36mbackward\u001b[0;34m(self, gradient, retain_graph, create_graph, inputs)\u001b[0m\n\u001b[1;32m    579\u001b[0m                 \u001b[0minputs\u001b[0m\u001b[0;34m=\u001b[0m\u001b[0minputs\u001b[0m\u001b[0;34m,\u001b[0m\u001b[0;34m\u001b[0m\u001b[0;34m\u001b[0m\u001b[0m\n\u001b[1;32m    580\u001b[0m             )\n\u001b[0;32m--> 581\u001b[0;31m         torch.autograd.backward(\n\u001b[0m\u001b[1;32m    582\u001b[0m             \u001b[0mself\u001b[0m\u001b[0;34m,\u001b[0m \u001b[0mgradient\u001b[0m\u001b[0;34m,\u001b[0m \u001b[0mretain_graph\u001b[0m\u001b[0;34m,\u001b[0m \u001b[0mcreate_graph\u001b[0m\u001b[0;34m,\u001b[0m \u001b[0minputs\u001b[0m\u001b[0;34m=\u001b[0m\u001b[0minputs\u001b[0m\u001b[0;34m\u001b[0m\u001b[0;34m\u001b[0m\u001b[0m\n\u001b[1;32m    583\u001b[0m         )\n",
            "\u001b[0;32m/usr/local/lib/python3.10/dist-packages/torch/autograd/__init__.py\u001b[0m in \u001b[0;36mbackward\u001b[0;34m(tensors, grad_tensors, retain_graph, create_graph, grad_variables, inputs)\u001b[0m\n\u001b[1;32m    345\u001b[0m     \u001b[0;31m# some Python versions print out the first line of a multi-line function\u001b[0m\u001b[0;34m\u001b[0m\u001b[0;34m\u001b[0m\u001b[0m\n\u001b[1;32m    346\u001b[0m     \u001b[0;31m# calls in the traceback and some print out the last line\u001b[0m\u001b[0;34m\u001b[0m\u001b[0;34m\u001b[0m\u001b[0m\n\u001b[0;32m--> 347\u001b[0;31m     _engine_run_backward(\n\u001b[0m\u001b[1;32m    348\u001b[0m         \u001b[0mtensors\u001b[0m\u001b[0;34m,\u001b[0m\u001b[0;34m\u001b[0m\u001b[0;34m\u001b[0m\u001b[0m\n\u001b[1;32m    349\u001b[0m         \u001b[0mgrad_tensors_\u001b[0m\u001b[0;34m,\u001b[0m\u001b[0;34m\u001b[0m\u001b[0;34m\u001b[0m\u001b[0m\n",
            "\u001b[0;32m/usr/local/lib/python3.10/dist-packages/torch/autograd/graph.py\u001b[0m in \u001b[0;36m_engine_run_backward\u001b[0;34m(t_outputs, *args, **kwargs)\u001b[0m\n\u001b[1;32m    823\u001b[0m         \u001b[0munregister_hooks\u001b[0m \u001b[0;34m=\u001b[0m \u001b[0m_register_logging_hooks_on_whole_graph\u001b[0m\u001b[0;34m(\u001b[0m\u001b[0mt_outputs\u001b[0m\u001b[0;34m)\u001b[0m\u001b[0;34m\u001b[0m\u001b[0;34m\u001b[0m\u001b[0m\n\u001b[1;32m    824\u001b[0m     \u001b[0;32mtry\u001b[0m\u001b[0;34m:\u001b[0m\u001b[0;34m\u001b[0m\u001b[0;34m\u001b[0m\u001b[0m\n\u001b[0;32m--> 825\u001b[0;31m         return Variable._execution_engine.run_backward(  # Calls into the C++ engine to run the backward pass\n\u001b[0m\u001b[1;32m    826\u001b[0m             \u001b[0mt_outputs\u001b[0m\u001b[0;34m,\u001b[0m \u001b[0;34m*\u001b[0m\u001b[0margs\u001b[0m\u001b[0;34m,\u001b[0m \u001b[0;34m**\u001b[0m\u001b[0mkwargs\u001b[0m\u001b[0;34m\u001b[0m\u001b[0;34m\u001b[0m\u001b[0m\n\u001b[1;32m    827\u001b[0m         )  # Calls into the C++ engine to run the backward pass\n",
            "\u001b[0;31mKeyboardInterrupt\u001b[0m: "
          ]
        }
      ],
      "source": [
        "n_epochs = 3\n",
        "\n",
        "for epoch in range(n_epochs):\n",
        "  model, _, _ = train_one_epoch(model,\n",
        "                                mini_loader,\n",
        "                                loss_fn,\n",
        "                                optimizer,\n",
        "                                metric,\n",
        "                                epoch)"
      ]
    },
    {
      "cell_type": "markdown",
      "metadata": {
        "id": "ZPrN9lG0nfTQ"
      },
      "source": [
        "Train the model for a limited number of epochs, experimenting with various learning rates."
      ]
    },
    {
      "cell_type": "code",
      "execution_count": null,
      "metadata": {
        "colab": {
          "base_uri": "https://localhost:8080/"
        },
        "id": "BfTCo-Ypm8Y_",
        "outputId": "173d149b-c22f-4066-b6e9-0e78aeca46c8"
      },
      "outputs": [
        {
          "name": "stdout",
          "output_type": "stream",
          "text": [
            "Lr: 0.001\n"
          ]
        },
        {
          "name": "stderr",
          "output_type": "stream",
          "text": [
            "100%|██████████| 38/38 [05:19<00:00,  8.41s/batch, loss=1.38, metric=0.495]\n",
            "100%|██████████| 38/38 [05:23<00:00,  8.51s/batch, loss=1.2, metric=0.563]\n"
          ]
        },
        {
          "name": "stdout",
          "output_type": "stream",
          "text": [
            "Lr: 0.0001\n"
          ]
        },
        {
          "name": "stderr",
          "output_type": "stream",
          "text": [
            "100%|██████████| 38/38 [05:17<00:00,  8.35s/batch, loss=1.7, metric=0.35]\n",
            "100%|██████████| 38/38 [05:26<00:00,  8.60s/batch, loss=1.51, metric=0.48]\n"
          ]
        },
        {
          "name": "stdout",
          "output_type": "stream",
          "text": [
            "Lr: 1e-05\n"
          ]
        },
        {
          "name": "stderr",
          "output_type": "stream",
          "text": [
            "100%|██████████| 38/38 [05:18<00:00,  8.39s/batch, loss=1.76, metric=0.254]\n",
            "100%|██████████| 38/38 [05:26<00:00,  8.61s/batch, loss=1.73, metric=0.369]\n"
          ]
        }
      ],
      "source": [
        "lrs = [0.001, 0.0001, 0.00001]\n",
        "n_epochs = 2\n",
        "\n",
        "for lr in lrs:\n",
        "  model = Cnn_Lstm_Model(num_emotions=num_emotions).to(device)\n",
        "  optimizer = optim.Adam(lr=lr, params=model.parameters())\n",
        "  print(f'Lr: {lr}')\n",
        "  for epoch in range(n_epochs):\n",
        "    model, _, _ = train_one_epoch(model,\n",
        "                                  train_loader,\n",
        "                                  loss_fn,\n",
        "                                  optimizer,\n",
        "                                  metric)"
      ]
    },
    {
      "cell_type": "markdown",
      "metadata": {
        "id": "2PiYETz4noM2"
      },
      "source": [
        "Train model for longer epochs."
      ]
    },
    {
      "cell_type": "code",
      "execution_count": null,
      "metadata": {
        "id": "_V-QS9fgKi8b"
      },
      "outputs": [],
      "source": [
        "device = 'cuda' if torch.cuda.is_available() else 'cpu'"
      ]
    },
    {
      "cell_type": "code",
      "execution_count": null,
      "metadata": {
        "id": "dwhvuJ4Nno53"
      },
      "outputs": [],
      "source": [
        "model = Cnn_Lstm_Model(num_emotions=num_emotions).to(device)\n",
        "\n",
        "Acc_train_hist = []\n",
        "Acc_valid_hist = []\n",
        "loss_train_hist = []\n",
        "loss_valid_hist = []\n",
        "\n",
        "best_loss = np.inf"
      ]
    },
    {
      "cell_type": "code",
      "execution_count": null,
      "metadata": {
        "id": "x3xqmge857GD"
      },
      "outputs": [],
      "source": [
        "device = 'cuda' if torch.cuda.is_available() else 'cpu'\n",
        "num_emotions = 4\n",
        "loss_fn = nn.CrossEntropyLoss(weight=torch.tensor(class_weights, dtype=torch.float).to(device))\n",
        "metric = tm.Accuracy(task='multiclass', num_classes=num_emotions).to(device)"
      ]
    },
    {
      "cell_type": "code",
      "execution_count": null,
      "metadata": {
        "id": "eHs2Pa0ELh4k"
      },
      "outputs": [],
      "source": [
        "torch.cuda.empty_cache()"
      ]
    },
    {
      "cell_type": "code",
      "execution_count": null,
      "metadata": {
        "colab": {
          "base_uri": "https://localhost:8080/"
        },
        "id": "XtRLos46n9Q3",
        "outputId": "8a4823ea-9a7c-4491-fba6-5deb095f23fd"
      },
      "outputs": [
        {
          "name": "stderr",
          "output_type": "stream",
          "text": [
            "100%|██████████| 283/283 [06:01<00:00,  1.28s/batch, loss=0.773, metric=0.701]\n"
          ]
        },
        {
          "name": "stdout",
          "output_type": "stream",
          "text": [
            "Acc_valid: 0.6564\n",
            "loss_valid: 0.846\n",
            "model saved!\n"
          ]
        },
        {
          "name": "stderr",
          "output_type": "stream",
          "text": [
            "Epoch 1: 100%|██████████| 283/283 [06:03<00:00,  1.29s/batch, loss=0.765, metric=0.696]\n"
          ]
        },
        {
          "name": "stdout",
          "output_type": "stream",
          "text": [
            "Acc_valid: 0.6564\n",
            "loss_valid: 0.8821\n"
          ]
        },
        {
          "name": "stderr",
          "output_type": "stream",
          "text": [
            "Epoch 2: 100%|██████████| 283/283 [06:02<00:00,  1.28s/batch, loss=0.745, metric=0.704]\n"
          ]
        },
        {
          "name": "stdout",
          "output_type": "stream",
          "text": [
            "Acc_valid: 0.5707\n",
            "loss_valid: 0.9713\n"
          ]
        },
        {
          "name": "stderr",
          "output_type": "stream",
          "text": [
            "Epoch 3: 100%|██████████| 283/283 [06:00<00:00,  1.27s/batch, loss=0.735, metric=0.702]\n"
          ]
        },
        {
          "name": "stdout",
          "output_type": "stream",
          "text": [
            "Acc_valid: 0.7032\n",
            "loss_valid: 0.7629\n",
            "model saved!\n"
          ]
        },
        {
          "name": "stderr",
          "output_type": "stream",
          "text": [
            "Epoch 4: 100%|██████████| 283/283 [06:02<00:00,  1.28s/batch, loss=0.73, metric=0.699]\n"
          ]
        },
        {
          "name": "stdout",
          "output_type": "stream",
          "text": [
            "Acc_valid: 0.7147\n",
            "loss_valid: 0.749\n",
            "model saved!\n"
          ]
        },
        {
          "name": "stderr",
          "output_type": "stream",
          "text": [
            "100%|██████████| 283/283 [06:01<00:00,  1.28s/batch, loss=0.715, metric=0.706]\n"
          ]
        },
        {
          "name": "stdout",
          "output_type": "stream",
          "text": [
            "Acc_valid: 0.6899\n",
            "loss_valid: 0.7998\n"
          ]
        },
        {
          "name": "stderr",
          "output_type": "stream",
          "text": [
            "Epoch 1: 100%|██████████| 283/283 [06:03<00:00,  1.28s/batch, loss=0.709, metric=0.715]\n"
          ]
        },
        {
          "name": "stdout",
          "output_type": "stream",
          "text": [
            "Acc_valid: 0.6661\n",
            "loss_valid: 0.8724\n"
          ]
        },
        {
          "name": "stderr",
          "output_type": "stream",
          "text": [
            "Epoch 2: 100%|██████████| 283/283 [06:02<00:00,  1.28s/batch, loss=0.708, metric=0.715]\n"
          ]
        },
        {
          "name": "stdout",
          "output_type": "stream",
          "text": [
            "Acc_valid: 0.5565\n",
            "loss_valid: 1.132\n"
          ]
        },
        {
          "name": "stderr",
          "output_type": "stream",
          "text": [
            "Epoch 3: 100%|██████████| 283/283 [06:01<00:00,  1.28s/batch, loss=0.713, metric=0.711]\n"
          ]
        },
        {
          "name": "stdout",
          "output_type": "stream",
          "text": [
            "Acc_valid: 0.6961\n",
            "loss_valid: 0.7797\n"
          ]
        },
        {
          "name": "stderr",
          "output_type": "stream",
          "text": [
            "Epoch 4: 100%|██████████| 283/283 [06:02<00:00,  1.28s/batch, loss=0.7, metric=0.716]\n"
          ]
        },
        {
          "name": "stdout",
          "output_type": "stream",
          "text": [
            "Acc_valid: 0.6696\n",
            "loss_valid: 0.8397\n"
          ]
        },
        {
          "name": "stderr",
          "output_type": "stream",
          "text": [
            "100%|██████████| 283/283 [06:01<00:00,  1.28s/batch, loss=0.711, metric=0.719]\n"
          ]
        },
        {
          "name": "stdout",
          "output_type": "stream",
          "text": [
            "Acc_valid: 0.5389\n",
            "loss_valid: 1.201\n"
          ]
        },
        {
          "name": "stderr",
          "output_type": "stream",
          "text": [
            "Epoch 1: 100%|██████████| 283/283 [06:02<00:00,  1.28s/batch, loss=0.71, metric=0.714]\n"
          ]
        },
        {
          "name": "stdout",
          "output_type": "stream",
          "text": [
            "Acc_valid: 0.6343\n",
            "loss_valid: 0.9185\n"
          ]
        },
        {
          "name": "stderr",
          "output_type": "stream",
          "text": [
            "Epoch 2: 100%|██████████| 283/283 [06:00<00:00,  1.28s/batch, loss=0.708, metric=0.72]\n"
          ]
        },
        {
          "name": "stdout",
          "output_type": "stream",
          "text": [
            "Acc_valid: 0.7085\n",
            "loss_valid: 0.7556\n"
          ]
        },
        {
          "name": "stderr",
          "output_type": "stream",
          "text": [
            "Epoch 3: 100%|██████████| 283/283 [06:00<00:00,  1.27s/batch, loss=0.705, metric=0.718]\n"
          ]
        },
        {
          "name": "stdout",
          "output_type": "stream",
          "text": [
            "Acc_valid: 0.5442\n",
            "loss_valid: 1.157\n"
          ]
        },
        {
          "name": "stderr",
          "output_type": "stream",
          "text": [
            "Epoch 4: 100%|██████████| 283/283 [06:00<00:00,  1.27s/batch, loss=0.713, metric=0.715]\n"
          ]
        },
        {
          "name": "stdout",
          "output_type": "stream",
          "text": [
            "Acc_valid: 0.6352\n",
            "loss_valid: 0.922\n"
          ]
        },
        {
          "name": "stderr",
          "output_type": "stream",
          "text": [
            "100%|██████████| 283/283 [05:59<00:00,  1.27s/batch, loss=0.711, metric=0.72]\n"
          ]
        },
        {
          "name": "stdout",
          "output_type": "stream",
          "text": [
            "Acc_valid: 0.621\n",
            "loss_valid: 0.9577\n"
          ]
        },
        {
          "name": "stderr",
          "output_type": "stream",
          "text": [
            "Epoch 1: 100%|██████████| 283/283 [06:01<00:00,  1.28s/batch, loss=0.722, metric=0.715]\n"
          ]
        },
        {
          "name": "stdout",
          "output_type": "stream",
          "text": [
            "Acc_valid: 0.5892\n",
            "loss_valid: 1.022\n"
          ]
        },
        {
          "name": "stderr",
          "output_type": "stream",
          "text": [
            "Epoch 2: 100%|██████████| 283/283 [06:00<00:00,  1.27s/batch, loss=0.707, metric=0.716]\n"
          ]
        },
        {
          "name": "stdout",
          "output_type": "stream",
          "text": [
            "Acc_valid: 0.6864\n",
            "loss_valid: 0.8298\n"
          ]
        },
        {
          "name": "stderr",
          "output_type": "stream",
          "text": [
            "Epoch 3: 100%|██████████| 283/283 [06:00<00:00,  1.27s/batch, loss=0.703, metric=0.716]\n"
          ]
        },
        {
          "name": "stdout",
          "output_type": "stream",
          "text": [
            "Acc_valid: 0.6396\n",
            "loss_valid: 0.9058\n"
          ]
        },
        {
          "name": "stderr",
          "output_type": "stream",
          "text": [
            "Epoch 4: 100%|██████████| 283/283 [06:01<00:00,  1.28s/batch, loss=0.707, metric=0.717]\n"
          ]
        },
        {
          "name": "stdout",
          "output_type": "stream",
          "text": [
            "Acc_valid: 0.5848\n",
            "loss_valid: 1.027\n"
          ]
        }
      ],
      "source": [
        "for lr in [0.00005, 0.000001, 0.0000005, 0.0000001]:\n",
        "  n_epochs = 5\n",
        "  optimizer = optim.Adam(lr=lr, params=model.parameters())\n",
        "\n",
        "  for epoch in range(n_epochs):\n",
        "\n",
        "    model, loss_train, Acc_train = train_one_epoch(model,\n",
        "                                    train_loader,\n",
        "                                    loss_fn,\n",
        "                                    optimizer,\n",
        "                                    metric,\n",
        "                                    epoch)\n",
        "    Acc_train_hist.append(Acc_train)\n",
        "    loss_train_hist.append(loss_train)\n",
        "\n",
        "    loss_valid, Acc_valid = evaluate(model, valid_loader, loss_fn, metric)\n",
        "\n",
        "    Acc_valid_hist.append(Acc_valid)\n",
        "    loss_valid_hist.append(loss_valid)\n",
        "\n",
        "    print(f'Acc_valid: {Acc_valid:.4}')\n",
        "    print(f'loss_valid: {loss_valid:.4}')\n",
        "\n",
        "    if loss_valid < best_loss:\n",
        "      best_loss = loss_valid\n",
        "      torch.save(model, 'drive/MyDrive/model_weight_balanced_aug.pt')\n",
        "      print('model saved!')\n",
        "\n",
        "    torch.cuda.empty_cache()"
      ]
    },
    {
      "cell_type": "code",
      "execution_count": null,
      "metadata": {
        "colab": {
          "base_uri": "https://localhost:8080/"
        },
        "id": "FOxH0spquGAT",
        "outputId": "97725d8b-7cb4-4c31-b2e0-a402794b3606"
      },
      "outputs": [
        {
          "name": "stdout",
          "output_type": "stream",
          "text": [
            "loss: 0.7928\n",
            "Accuracy: 0.6985\n"
          ]
        }
      ],
      "source": [
        "loaded_model = torch.load('drive/MyDrive/model_weight_balanced_aug.pt', map_location='cpu')\n",
        "loss, metric = evaluate(loaded_model, test_loader, loss_fn, metric)\n",
        "print(f'loss: {loss:.4}')\n",
        "print(f'Accuracy: {metric:.4}')"
      ]
    },
    {
      "cell_type": "code",
      "execution_count": null,
      "metadata": {
        "colab": {
          "base_uri": "https://localhost:8080/",
          "height": 447
        },
        "id": "pfKMDtfk64NS",
        "outputId": "2e36409e-ea77-4ce5-a062-7d608fca1d40"
      },
      "outputs": [
        {
          "data": {
            "text/plain": [
              "[<matplotlib.lines.Line2D at 0x7c374db7b4f0>]"
            ]
          },
          "execution_count": 37,
          "metadata": {},
          "output_type": "execute_result"
        },
        {
          "data": {
            "image/png": "[encoded data removed]",
            "text/plain": [
              "<Figure size 640x480 with 1 Axes>"
            ]
          },
          "metadata": {},
          "output_type": "display_data"
        }
      ],
      "source": [
        "plt.plot(Acc_train_hist)\n",
        "plt.plot(Acc_valid_hist)"
      ]
    },
    {
      "cell_type": "code",
      "execution_count": null,
      "metadata": {
        "colab": {
          "base_uri": "https://localhost:8080/",
          "height": 447
        },
        "id": "a1gz1KIE69hR",
        "outputId": "84562cf1-55e3-45be-c87f-495a81b27668"
      },
      "outputs": [
        {
          "data": {
            "text/plain": [
              "[<matplotlib.lines.Line2D at 0x7c3742e92a40>]"
            ]
          },
          "execution_count": 36,
          "metadata": {},
          "output_type": "execute_result"
        },
        {
          "data": {
            "image/png": "[encoded data removed]",
            "text/plain": [
              "<Figure size 640x480 with 1 Axes>"
            ]
          },
          "metadata": {},
          "output_type": "display_data"
        }
      ],
      "source": [
        "plt.plot(loss_train_hist)\n",
        "plt.plot(loss_valid_hist)"
      ]
    }
  ],
  "metadata": {
    "colab": {
      "provenance": []
    },
    "kernelspec": {
      "display_name": "deep-learning",
      "language": "python",
      "name": "deep-learning"
    },
    "language_info": {
      "codemirror_mode": {
        "name": "ipython",
        "version": 3
      },
      "file_extension": ".py",
      "mimetype": "text/x-python",
      "name": "python",
      "nbconvert_exporter": "python",
      "pygments_lexer": "ipython3",
      "version": "3.10.8"
    }
  },
  "nbformat": 4,
  "nbformat_minor": 0
}
