{
  "cells": [
    {
      "cell_type": "code",
      "execution_count": null,
      "metadata": {
        "colab": {
          "base_uri": "https://localhost:8080/"
        },
        "id": "FutX5ojl0nSv",
        "outputId": "c5dee41a-20a2-4276-dd76-cc7aaf223644"
      },
      "outputs": [
        {
          "output_type": "stream",
          "name": "stdout",
          "text": [
            "Mounted at /content/drive\n"
          ]
        }
      ],
      "source": [
        "from google.colab import drive\n",
        "drive.mount('/content/drive')"
      ]
    },
    {
      "cell_type": "code",
      "source": [
        "import os\n",
        "import numpy as np\n",
        "import librosa\n",
        "import soundfile as sf\n",
        "\n",
        "def augment_audio(input_folder, output_folder):\n",
        "    if not os.path.exists(output_folder):\n",
        "        os.makedirs(output_folder)\n",
        "\n",
        "    for filename in os.listdir(input_folder):\n",
        "        if filename.endswith('.wav'):\n",
        "\n",
        "            file_path = os.path.join(input_folder, filename)\n",
        "            y, sr = librosa.load(file_path, sr=None)\n",
        "\n",
        "\n",
        "            speed_change = [0.5, 1.0, 1.5]\n",
        "            for speed in speed_change:\n",
        "                y_speed = librosa.effects.time_stretch(y, rate=speed)\n",
        "                sf.write(os.path.join(output_folder, f\"{filename[:-4]}_speed_{speed}.wav\"), y_speed, sr)\n",
        "\n",
        "\n",
        "            pitch_shift = [-2, 0, 2]\n",
        "            for pitch in pitch_shift:\n",
        "                y_pitch = librosa.effects.pitch_shift(y, n_steps=pitch, sr=sr)\n",
        "                sf.write(os.path.join(output_folder, f\"{filename[:-4]}_pitch_{pitch}.wav\"), y_pitch, sr)\n",
        "\n",
        "\n",
        "            noise_factor = 0.005\n",
        "            y_noisy = y + noise_factor * np.random.randn(len(y))\n",
        "            sf.write(os.path.join(output_folder, f\"{filename[:-4]}_noisy.wav\"), y_noisy, sr)\n",
        "\n",
        "\n",
        "input_folder = 'drive/MyDrive/SHEMO'\n",
        "output_folder = 'drive/MyDrive/aug_shemo'\n",
        "\n",
        "augment_audio(input_folder, output_folder)"
      ],
      "metadata": {
        "id": "_zHtEMjNJdb1"
      },
      "execution_count": null,
      "outputs": []
    }
  ],
  "metadata": {
    "colab": {
      "provenance": []
    },
    "kernelspec": {
      "display_name": "Python 3",
      "name": "python3"
    },
    "language_info": {
      "name": "python"
    }
  },
  "nbformat": 4,
  "nbformat_minor": 0
}